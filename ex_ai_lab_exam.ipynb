{
  "nbformat": 4,
  "nbformat_minor": 0,
  "metadata": {
    "colab": {
      "provenance": [],
      "authorship_tag": "ABX9TyN+u+VrypkrO6iimjYz2iEp",
      "include_colab_link": true
    },
    "kernelspec": {
      "name": "python3",
      "display_name": "Python 3"
    },
    "language_info": {
      "name": "python"
    }
  },
  "cells": [
    {
      "cell_type": "markdown",
      "metadata": {
        "id": "view-in-github",
        "colab_type": "text"
      },
      "source": [
        "<a href=\"https://colab.research.google.com/github/HarshaVardhan2T02/EX-AI/blob/main/ex_ai_lab_exam.ipynb\" target=\"_parent\"><img src=\"https://colab.research.google.com/assets/colab-badge.svg\" alt=\"Open In Colab\"/></a>"
      ]
    },
    {
      "cell_type": "code",
      "execution_count": 2,
      "metadata": {
        "colab": {
          "base_uri": "https://localhost:8080/",
          "height": 206
        },
        "id": "oICUsxPfYZWI",
        "outputId": "8a3a5241-d6aa-4c85-aad0-df344eb18bc1"
      },
      "outputs": [
        {
          "output_type": "execute_result",
          "data": {
            "text/plain": [
              "                                         image_path       label\n",
              "0  Combined Dataset/test/Mild Impairment/1 (10).jpg  1 (10).jpg\n",
              "1  Combined Dataset/test/Mild Impairment/1 (11).jpg  1 (11).jpg\n",
              "2  Combined Dataset/test/Mild Impairment/1 (14).jpg  1 (14).jpg\n",
              "3  Combined Dataset/test/Mild Impairment/1 (15).jpg  1 (15).jpg\n",
              "4   Combined Dataset/test/Mild Impairment/1 (2).jpg   1 (2).jpg"
            ],
            "text/html": [
              "\n",
              "  <div id=\"df-4982542c-9d32-4b5e-b6b8-057d48a86934\" class=\"colab-df-container\">\n",
              "    <div>\n",
              "<style scoped>\n",
              "    .dataframe tbody tr th:only-of-type {\n",
              "        vertical-align: middle;\n",
              "    }\n",
              "\n",
              "    .dataframe tbody tr th {\n",
              "        vertical-align: top;\n",
              "    }\n",
              "\n",
              "    .dataframe thead th {\n",
              "        text-align: right;\n",
              "    }\n",
              "</style>\n",
              "<table border=\"1\" class=\"dataframe\">\n",
              "  <thead>\n",
              "    <tr style=\"text-align: right;\">\n",
              "      <th></th>\n",
              "      <th>image_path</th>\n",
              "      <th>label</th>\n",
              "    </tr>\n",
              "  </thead>\n",
              "  <tbody>\n",
              "    <tr>\n",
              "      <th>0</th>\n",
              "      <td>Combined Dataset/test/Mild Impairment/1 (10).jpg</td>\n",
              "      <td>1 (10).jpg</td>\n",
              "    </tr>\n",
              "    <tr>\n",
              "      <th>1</th>\n",
              "      <td>Combined Dataset/test/Mild Impairment/1 (11).jpg</td>\n",
              "      <td>1 (11).jpg</td>\n",
              "    </tr>\n",
              "    <tr>\n",
              "      <th>2</th>\n",
              "      <td>Combined Dataset/test/Mild Impairment/1 (14).jpg</td>\n",
              "      <td>1 (14).jpg</td>\n",
              "    </tr>\n",
              "    <tr>\n",
              "      <th>3</th>\n",
              "      <td>Combined Dataset/test/Mild Impairment/1 (15).jpg</td>\n",
              "      <td>1 (15).jpg</td>\n",
              "    </tr>\n",
              "    <tr>\n",
              "      <th>4</th>\n",
              "      <td>Combined Dataset/test/Mild Impairment/1 (2).jpg</td>\n",
              "      <td>1 (2).jpg</td>\n",
              "    </tr>\n",
              "  </tbody>\n",
              "</table>\n",
              "</div>\n",
              "    <div class=\"colab-df-buttons\">\n",
              "\n",
              "  <div class=\"colab-df-container\">\n",
              "    <button class=\"colab-df-convert\" onclick=\"convertToInteractive('df-4982542c-9d32-4b5e-b6b8-057d48a86934')\"\n",
              "            title=\"Convert this dataframe to an interactive table.\"\n",
              "            style=\"display:none;\">\n",
              "\n",
              "  <svg xmlns=\"http://www.w3.org/2000/svg\" height=\"24px\" viewBox=\"0 -960 960 960\">\n",
              "    <path d=\"M120-120v-720h720v720H120Zm60-500h600v-160H180v160Zm220 220h160v-160H400v160Zm0 220h160v-160H400v160ZM180-400h160v-160H180v160Zm440 0h160v-160H620v160ZM180-180h160v-160H180v160Zm440 0h160v-160H620v160Z\"/>\n",
              "  </svg>\n",
              "    </button>\n",
              "\n",
              "  <style>\n",
              "    .colab-df-container {\n",
              "      display:flex;\n",
              "      gap: 12px;\n",
              "    }\n",
              "\n",
              "    .colab-df-convert {\n",
              "      background-color: #E8F0FE;\n",
              "      border: none;\n",
              "      border-radius: 50%;\n",
              "      cursor: pointer;\n",
              "      display: none;\n",
              "      fill: #1967D2;\n",
              "      height: 32px;\n",
              "      padding: 0 0 0 0;\n",
              "      width: 32px;\n",
              "    }\n",
              "\n",
              "    .colab-df-convert:hover {\n",
              "      background-color: #E2EBFA;\n",
              "      box-shadow: 0px 1px 2px rgba(60, 64, 67, 0.3), 0px 1px 3px 1px rgba(60, 64, 67, 0.15);\n",
              "      fill: #174EA6;\n",
              "    }\n",
              "\n",
              "    .colab-df-buttons div {\n",
              "      margin-bottom: 4px;\n",
              "    }\n",
              "\n",
              "    [theme=dark] .colab-df-convert {\n",
              "      background-color: #3B4455;\n",
              "      fill: #D2E3FC;\n",
              "    }\n",
              "\n",
              "    [theme=dark] .colab-df-convert:hover {\n",
              "      background-color: #434B5C;\n",
              "      box-shadow: 0px 1px 3px 1px rgba(0, 0, 0, 0.15);\n",
              "      filter: drop-shadow(0px 1px 2px rgba(0, 0, 0, 0.3));\n",
              "      fill: #FFFFFF;\n",
              "    }\n",
              "  </style>\n",
              "\n",
              "    <script>\n",
              "      const buttonEl =\n",
              "        document.querySelector('#df-4982542c-9d32-4b5e-b6b8-057d48a86934 button.colab-df-convert');\n",
              "      buttonEl.style.display =\n",
              "        google.colab.kernel.accessAllowed ? 'block' : 'none';\n",
              "\n",
              "      async function convertToInteractive(key) {\n",
              "        const element = document.querySelector('#df-4982542c-9d32-4b5e-b6b8-057d48a86934');\n",
              "        const dataTable =\n",
              "          await google.colab.kernel.invokeFunction('convertToInteractive',\n",
              "                                                    [key], {});\n",
              "        if (!dataTable) return;\n",
              "\n",
              "        const docLinkHtml = 'Like what you see? Visit the ' +\n",
              "          '<a target=\"_blank\" href=https://colab.research.google.com/notebooks/data_table.ipynb>data table notebook</a>'\n",
              "          + ' to learn more about interactive tables.';\n",
              "        element.innerHTML = '';\n",
              "        dataTable['output_type'] = 'display_data';\n",
              "        await google.colab.output.renderOutput(dataTable, element);\n",
              "        const docLink = document.createElement('div');\n",
              "        docLink.innerHTML = docLinkHtml;\n",
              "        element.appendChild(docLink);\n",
              "      }\n",
              "    </script>\n",
              "  </div>\n",
              "\n",
              "\n",
              "    <div id=\"df-2a558196-1849-4b18-8339-bcdea0b25b46\">\n",
              "      <button class=\"colab-df-quickchart\" onclick=\"quickchart('df-2a558196-1849-4b18-8339-bcdea0b25b46')\"\n",
              "                title=\"Suggest charts\"\n",
              "                style=\"display:none;\">\n",
              "\n",
              "<svg xmlns=\"http://www.w3.org/2000/svg\" height=\"24px\"viewBox=\"0 0 24 24\"\n",
              "     width=\"24px\">\n",
              "    <g>\n",
              "        <path d=\"M19 3H5c-1.1 0-2 .9-2 2v14c0 1.1.9 2 2 2h14c1.1 0 2-.9 2-2V5c0-1.1-.9-2-2-2zM9 17H7v-7h2v7zm4 0h-2V7h2v10zm4 0h-2v-4h2v4z\"/>\n",
              "    </g>\n",
              "</svg>\n",
              "      </button>\n",
              "\n",
              "<style>\n",
              "  .colab-df-quickchart {\n",
              "      --bg-color: #E8F0FE;\n",
              "      --fill-color: #1967D2;\n",
              "      --hover-bg-color: #E2EBFA;\n",
              "      --hover-fill-color: #174EA6;\n",
              "      --disabled-fill-color: #AAA;\n",
              "      --disabled-bg-color: #DDD;\n",
              "  }\n",
              "\n",
              "  [theme=dark] .colab-df-quickchart {\n",
              "      --bg-color: #3B4455;\n",
              "      --fill-color: #D2E3FC;\n",
              "      --hover-bg-color: #434B5C;\n",
              "      --hover-fill-color: #FFFFFF;\n",
              "      --disabled-bg-color: #3B4455;\n",
              "      --disabled-fill-color: #666;\n",
              "  }\n",
              "\n",
              "  .colab-df-quickchart {\n",
              "    background-color: var(--bg-color);\n",
              "    border: none;\n",
              "    border-radius: 50%;\n",
              "    cursor: pointer;\n",
              "    display: none;\n",
              "    fill: var(--fill-color);\n",
              "    height: 32px;\n",
              "    padding: 0;\n",
              "    width: 32px;\n",
              "  }\n",
              "\n",
              "  .colab-df-quickchart:hover {\n",
              "    background-color: var(--hover-bg-color);\n",
              "    box-shadow: 0 1px 2px rgba(60, 64, 67, 0.3), 0 1px 3px 1px rgba(60, 64, 67, 0.15);\n",
              "    fill: var(--button-hover-fill-color);\n",
              "  }\n",
              "\n",
              "  .colab-df-quickchart-complete:disabled,\n",
              "  .colab-df-quickchart-complete:disabled:hover {\n",
              "    background-color: var(--disabled-bg-color);\n",
              "    fill: var(--disabled-fill-color);\n",
              "    box-shadow: none;\n",
              "  }\n",
              "\n",
              "  .colab-df-spinner {\n",
              "    border: 2px solid var(--fill-color);\n",
              "    border-color: transparent;\n",
              "    border-bottom-color: var(--fill-color);\n",
              "    animation:\n",
              "      spin 1s steps(1) infinite;\n",
              "  }\n",
              "\n",
              "  @keyframes spin {\n",
              "    0% {\n",
              "      border-color: transparent;\n",
              "      border-bottom-color: var(--fill-color);\n",
              "      border-left-color: var(--fill-color);\n",
              "    }\n",
              "    20% {\n",
              "      border-color: transparent;\n",
              "      border-left-color: var(--fill-color);\n",
              "      border-top-color: var(--fill-color);\n",
              "    }\n",
              "    30% {\n",
              "      border-color: transparent;\n",
              "      border-left-color: var(--fill-color);\n",
              "      border-top-color: var(--fill-color);\n",
              "      border-right-color: var(--fill-color);\n",
              "    }\n",
              "    40% {\n",
              "      border-color: transparent;\n",
              "      border-right-color: var(--fill-color);\n",
              "      border-top-color: var(--fill-color);\n",
              "    }\n",
              "    60% {\n",
              "      border-color: transparent;\n",
              "      border-right-color: var(--fill-color);\n",
              "    }\n",
              "    80% {\n",
              "      border-color: transparent;\n",
              "      border-right-color: var(--fill-color);\n",
              "      border-bottom-color: var(--fill-color);\n",
              "    }\n",
              "    90% {\n",
              "      border-color: transparent;\n",
              "      border-bottom-color: var(--fill-color);\n",
              "    }\n",
              "  }\n",
              "</style>\n",
              "\n",
              "      <script>\n",
              "        async function quickchart(key) {\n",
              "          const quickchartButtonEl =\n",
              "            document.querySelector('#' + key + ' button');\n",
              "          quickchartButtonEl.disabled = true;  // To prevent multiple clicks.\n",
              "          quickchartButtonEl.classList.add('colab-df-spinner');\n",
              "          try {\n",
              "            const charts = await google.colab.kernel.invokeFunction(\n",
              "                'suggestCharts', [key], {});\n",
              "          } catch (error) {\n",
              "            console.error('Error during call to suggestCharts:', error);\n",
              "          }\n",
              "          quickchartButtonEl.classList.remove('colab-df-spinner');\n",
              "          quickchartButtonEl.classList.add('colab-df-quickchart-complete');\n",
              "        }\n",
              "        (() => {\n",
              "          let quickchartButtonEl =\n",
              "            document.querySelector('#df-2a558196-1849-4b18-8339-bcdea0b25b46 button');\n",
              "          quickchartButtonEl.style.display =\n",
              "            google.colab.kernel.accessAllowed ? 'block' : 'none';\n",
              "        })();\n",
              "      </script>\n",
              "    </div>\n",
              "\n",
              "    </div>\n",
              "  </div>\n"
            ],
            "application/vnd.google.colaboratory.intrinsic+json": {
              "type": "dataframe",
              "variable_name": "df",
              "summary": "{\n  \"name\": \"df\",\n  \"rows\": 11519,\n  \"fields\": [\n    {\n      \"column\": \"image_path\",\n      \"properties\": {\n        \"dtype\": \"string\",\n        \"num_unique_values\": 11519,\n        \"samples\": [\n          \"Combined Dataset/test/Very Mild Impairment/25 (58).jpg\",\n          \"Combined Dataset/train/Mild Impairment/MildImpairment (2027).jpg\",\n          \"Combined Dataset/train/No Impairment/NoImpairment (2554).jpg\"\n        ],\n        \"semantic_type\": \"\",\n        \"description\": \"\"\n      }\n    },\n    {\n      \"column\": \"label\",\n      \"properties\": {\n        \"dtype\": \"string\",\n        \"num_unique_values\": 11359,\n        \"samples\": [\n          \"25 (22).jpg\",\n          \"VeryMildImpairment (660).jpg\",\n          \"ModerateImpairment (1707).jpg\"\n        ],\n        \"semantic_type\": \"\",\n        \"description\": \"\"\n      }\n    }\n  ]\n}"
            }
          },
          "metadata": {},
          "execution_count": 2
        }
      ],
      "source": [
        "import pandas as pda\n",
        "\n",
        "df = pda.read_csv('/content/combined_dataset_labels.csv')\n",
        "df.head()"
      ]
    },
    {
      "cell_type": "code",
      "source": [
        "print(\"Shape of the DataFrame:\")\n",
        "print(df.shape)\n",
        "\n",
        "print(\"\\nData types of each column:\")\n",
        "df.info()\n",
        "\n",
        "print(\"\\nMissing values per column:\")\n",
        "print(df.isnull().sum())"
      ],
      "metadata": {
        "colab": {
          "base_uri": "https://localhost:8080/"
        },
        "id": "3scdwiDkYlFk",
        "outputId": "0d5d8c17-d88c-45d9-9245-32813f1bfc4a"
      },
      "execution_count": 3,
      "outputs": [
        {
          "output_type": "stream",
          "name": "stdout",
          "text": [
            "Shape of the DataFrame:\n",
            "(11519, 2)\n",
            "\n",
            "Data types of each column:\n",
            "<class 'pandas.core.frame.DataFrame'>\n",
            "RangeIndex: 11519 entries, 0 to 11518\n",
            "Data columns (total 2 columns):\n",
            " #   Column      Non-Null Count  Dtype \n",
            "---  ------      --------------  ----- \n",
            " 0   image_path  11519 non-null  object\n",
            " 1   label       11519 non-null  object\n",
            "dtypes: object(2)\n",
            "memory usage: 180.1+ KB\n",
            "\n",
            "Missing values per column:\n",
            "image_path    0\n",
            "label         0\n",
            "dtype: int64\n"
          ]
        }
      ]
    },
    {
      "cell_type": "code",
      "source": [
        "import matplotlib.pyplot as plt\n",
        "import seaborn as sns\n",
        "\n",
        "# Generate descriptive statistics for numerical columns\n",
        "# Since there are no numerical columns, we will skip this step as it's not applicable.\n",
        "# print(\"Descriptive statistics for numerical columns:\")\n",
        "# print(df.describe())\n",
        "\n",
        "# Visualize the distribution of the 'label' column\n",
        "plt.figure(figsize=(10, 6))\n",
        "sns.countplot(data=df, y='label', order=df['label'].value_counts().index)\n",
        "plt.title('Distribution of Image Labels')\n",
        "plt.xlabel('Count')\n",
        "plt.ylabel('Label')\n",
        "plt.show()"
      ],
      "metadata": {
        "colab": {
          "base_uri": "https://localhost:8080/",
          "height": 564
        },
        "id": "qvcHu16SYoak",
        "outputId": "85cfcd9c-4e87-4daf-9383-0b06beb510f5"
      },
      "execution_count": 4,
      "outputs": [
        {
          "output_type": "display_data",
          "data": {
            "text/plain": [
              "<Figure size 1000x600 with 1 Axes>"
            ],
            "image/png": "[encoded data removed]"
          },
          "metadata": {}
        }
      ]
    },
    {
      "cell_type": "code",
      "source": [
        "label_counts = df['label'].value_counts()\n",
        "print(\"Value counts of the 'label' column:\")\n",
        "print(label_counts)"
      ],
      "metadata": {
        "colab": {
          "base_uri": "https://localhost:8080/"
        },
        "id": "7tc1_jPtYwfY",
        "outputId": "5ce62a9b-06cc-4805-a6d3-ead97461857f"
      },
      "execution_count": 5,
      "outputs": [
        {
          "output_type": "stream",
          "name": "stdout",
          "text": [
            "Value counts of the 'label' column:\n",
            "label\n",
            "24 (17).jpg                      3\n",
            "8 (18).jpg                       3\n",
            "13 (27).jpg                      3\n",
            "32 (20).jpg                      3\n",
            "13 (14).jpg                      3\n",
            "                                ..\n",
            "ModerateImpairment (1184).jpg    1\n",
            "ModerateImpairment (1185).jpg    1\n",
            "ModerateImpairment (1186).jpg    1\n",
            "ModerateImpairment (1187).jpg    1\n",
            "ModerateImpairment (1178).jpg    1\n",
            "Name: count, Length: 11359, dtype: int64\n"
          ]
        }
      ]
    },
    {
      "cell_type": "code",
      "source": [
        "numerical_cols = df.select_dtypes(include=['number']).columns.tolist()\n",
        "\n",
        "if numerical_cols:\n",
        "    print(\"Numerical columns found:\", numerical_cols)\n",
        "else:\n",
        "    print(\"No numerical columns found in the DataFrame.\")\n"
      ],
      "metadata": {
        "colab": {
          "base_uri": "https://localhost:8080/"
        },
        "id": "wsNStLagY3bL",
        "outputId": "8bc2ca81-c347-4706-a372-542dc0ac2097"
      },
      "execution_count": 6,
      "outputs": [
        {
          "output_type": "stream",
          "name": "stdout",
          "text": [
            "No numerical columns found in the DataFrame.\n"
          ]
        }
      ]
    },
    {
      "cell_type": "code",
      "source": [
        "print(\"Missing values per column:\")\n",
        "print(df.isnull().sum())"
      ],
      "metadata": {
        "colab": {
          "base_uri": "https://localhost:8080/"
        },
        "id": "YWigVGrLY7Vc",
        "outputId": "5a68db78-576e-4e3e-9e10-380304392d6c"
      },
      "execution_count": 7,
      "outputs": [
        {
          "output_type": "stream",
          "name": "stdout",
          "text": [
            "Missing values per column:\n",
            "image_path    0\n",
            "label         0\n",
            "dtype: int64\n"
          ]
        }
      ]
    },
    {
      "cell_type": "code",
      "source": [
        "from sklearn.model_selection import train_test_split\n",
        "\n",
        "X = df['image_path']\n",
        "X_train, X_test = train_test_split(X, test_size=0.2, random_state=42)\n",
        "\n",
        "print(\"Shape of X_train:\", X_train.shape)\n",
        "print(\"Shape of X_test:\", X_test.shape)"
      ],
      "metadata": {
        "colab": {
          "base_uri": "https://localhost:8080/"
        },
        "id": "cxNXWKMZY9d3",
        "outputId": "128b1cb4-9981-4340-b952-fc02c07c3c5b"
      },
      "execution_count": 8,
      "outputs": [
        {
          "output_type": "stream",
          "name": "stdout",
          "text": [
            "Shape of X_train: (9215,)\n",
            "Shape of X_test: (2304,)\n"
          ]
        }
      ]
    },
    {
      "cell_type": "code",
      "source": [
        "from sklearn.metrics import accuracy_score, precision_score, recall_score, f1_score, classification_report\n",
        "\n",
        "# Make predictions on the test set\n",
        "y_pred_log_reg = log_reg.predict(X_test)\n",
        "y_pred_rf_clf = rf_clf.predict(X_test)\n",
        "y_pred_gb_clf = gb_clf.predict(X_test)\n",
        "\n",
        "# Evaluate Logistic Regression\n",
        "print(\"Logistic Regression Performance:\")\n",
        "print(\"Accuracy:\", accuracy_score(y_test, y_pred_log_reg))\n",
        "print(\"Precision:\", precision_score(y_test, y_pred_log_reg, average='weighted'))\n",
        "print(\"Recall:\", recall_score(y_test, y_pred_log_reg, average='weighted'))\n",
        "print(\"F1-score:\", f1_score(y_test, y_pred_log_reg, average='weighted'))\n",
        "print(\"\\nClassification Report:\\n\", classification_report(y_test, y_pred_log_reg))\n",
        "\n",
        "# Evaluate Random Forest Classifier\n",
        "print(\"\\nRandom Forest Classifier Performance:\")\n",
        "print(\"Accuracy:\", accuracy_score(y_test, y_pred_rf_clf))\n",
        "print(\"Precision:\", precision_score(y_test, y_pred_rf_clf, average='weighted'))\n",
        "print(\"Recall:\", recall_score(y_test, y_pred_rf_clf, average='weighted'))\n",
        "print(\"F1-score:\", f1_score(y_test, y_pred_rf_clf, average='weighted'))\n",
        "print(\"\\nClassification Report:\\n\", classification_report(y_test, y_pred_rf_clf))\n",
        "\n",
        "# Evaluate Gradient Boosting Classifier\n",
        "print(\"\\nGradient Boosting Classifier Performance:\")\n",
        "print(\"Accuracy:\", accuracy_score(y_test, y_pred_gb_clf))\n",
        "print(\"Precision:\", precision_score(y_test, y_pred_gb_clf, average='weighted'))\n",
        "print(\"Recall:\", recall_score(y_test, y_pred_gb_clf, average='weighted'))\n",
        "print(\"F1-score:\", f1_score(y_test, y_pred_gb_clf, average='weighted'))\n",
        "print(\"\\nClassification Report:\\n\", classification_report(y_test, y_pred_gb_clf))"
      ],
      "metadata": {
        "colab": {
          "base_uri": "https://localhost:8080/",
          "height": 211
        },
        "id": "-QzfpJcyZb5N",
        "outputId": "e828f09b-5610-4039-a4aa-9763df5684fe"
      },
      "execution_count": 9,
      "outputs": [
        {
          "output_type": "error",
          "ename": "NameError",
          "evalue": "name 'log_reg' is not defined",
          "traceback": [
            "\u001b[0;31m---------------------------------------------------------------------------\u001b[0m",
            "\u001b[0;31mNameError\u001b[0m                                 Traceback (most recent call last)",
            "\u001b[0;32m/tmp/ipython-input-3419465139.py\u001b[0m in \u001b[0;36m<cell line: 0>\u001b[0;34m()\u001b[0m\n\u001b[1;32m      2\u001b[0m \u001b[0;34m\u001b[0m\u001b[0m\n\u001b[1;32m      3\u001b[0m \u001b[0;31m# Make predictions on the test set\u001b[0m\u001b[0;34m\u001b[0m\u001b[0;34m\u001b[0m\u001b[0m\n\u001b[0;32m----> 4\u001b[0;31m \u001b[0my_pred_log_reg\u001b[0m \u001b[0;34m=\u001b[0m \u001b[0mlog_reg\u001b[0m\u001b[0;34m.\u001b[0m\u001b[0mpredict\u001b[0m\u001b[0;34m(\u001b[0m\u001b[0mX_test\u001b[0m\u001b[0;34m)\u001b[0m\u001b[0;34m\u001b[0m\u001b[0;34m\u001b[0m\u001b[0m\n\u001b[0m\u001b[1;32m      5\u001b[0m \u001b[0my_pred_rf_clf\u001b[0m \u001b[0;34m=\u001b[0m \u001b[0mrf_clf\u001b[0m\u001b[0;34m.\u001b[0m\u001b[0mpredict\u001b[0m\u001b[0;34m(\u001b[0m\u001b[0mX_test\u001b[0m\u001b[0;34m)\u001b[0m\u001b[0;34m\u001b[0m\u001b[0;34m\u001b[0m\u001b[0m\n\u001b[1;32m      6\u001b[0m \u001b[0my_pred_gb_clf\u001b[0m \u001b[0;34m=\u001b[0m \u001b[0mgb_clf\u001b[0m\u001b[0;34m.\u001b[0m\u001b[0mpredict\u001b[0m\u001b[0;34m(\u001b[0m\u001b[0mX_test\u001b[0m\u001b[0;34m)\u001b[0m\u001b[0;34m\u001b[0m\u001b[0;34m\u001b[0m\u001b[0m\n",
            "\u001b[0;31mNameError\u001b[0m: name 'log_reg' is not defined"
          ]
        }
      ]
    },
    {
      "cell_type": "code",
      "metadata": {
        "colab": {
          "base_uri": "https://localhost:8080/",
          "height": 362
        },
        "id": "3041419d",
        "outputId": "5b5d8038-d32e-4d31-a311-f28becfee123"
      },
      "source": [
        "import os\n",
        "\n",
        "def extract_class(image_path):\n",
        "    return os.path.basename(os.path.dirname(image_path))\n",
        "\n",
        "df['class'] = df['image_path'].apply(extract_class)\n",
        "\n",
        "print(\"DataFrame with new 'class' column:\")\n",
        "display(df.head())\n",
        "print(\"\\nValue counts of the new 'class' column:\")\n",
        "print(df['class'].value_counts())"
      ],
      "execution_count": 10,
      "outputs": [
        {
          "output_type": "stream",
          "name": "stdout",
          "text": [
            "DataFrame with new 'class' column:\n"
          ]
        },
        {
          "output_type": "display_data",
          "data": {
            "text/plain": [
              "                                         image_path       label  \\\n",
              "0  Combined Dataset/test/Mild Impairment/1 (10).jpg  1 (10).jpg   \n",
              "1  Combined Dataset/test/Mild Impairment/1 (11).jpg  1 (11).jpg   \n",
              "2  Combined Dataset/test/Mild Impairment/1 (14).jpg  1 (14).jpg   \n",
              "3  Combined Dataset/test/Mild Impairment/1 (15).jpg  1 (15).jpg   \n",
              "4   Combined Dataset/test/Mild Impairment/1 (2).jpg   1 (2).jpg   \n",
              "\n",
              "             class  \n",
              "0  Mild Impairment  \n",
              "1  Mild Impairment  \n",
              "2  Mild Impairment  \n",
              "3  Mild Impairment  \n",
              "4  Mild Impairment  "
            ],
            "text/html": [
              "\n",
              "  <div id=\"df-656a37e7-9b5b-483a-b3b8-9ac6021a4dfd\" class=\"colab-df-container\">\n",
              "    <div>\n",
              "<style scoped>\n",
              "    .dataframe tbody tr th:only-of-type {\n",
              "        vertical-align: middle;\n",
              "    }\n",
              "\n",
              "    .dataframe tbody tr th {\n",
              "        vertical-align: top;\n",
              "    }\n",
              "\n",
              "    .dataframe thead th {\n",
              "        text-align: right;\n",
              "    }\n",
              "</style>\n",
              "<table border=\"1\" class=\"dataframe\">\n",
              "  <thead>\n",
              "    <tr style=\"text-align: right;\">\n",
              "      <th></th>\n",
              "      <th>image_path</th>\n",
              "      <th>label</th>\n",
              "      <th>class</th>\n",
              "    </tr>\n",
              "  </thead>\n",
              "  <tbody>\n",
              "    <tr>\n",
              "      <th>0</th>\n",
              "      <td>Combined Dataset/test/Mild Impairment/1 (10).jpg</td>\n",
              "      <td>1 (10).jpg</td>\n",
              "      <td>Mild Impairment</td>\n",
              "    </tr>\n",
              "    <tr>\n",
              "      <th>1</th>\n",
              "      <td>Combined Dataset/test/Mild Impairment/1 (11).jpg</td>\n",
              "      <td>1 (11).jpg</td>\n",
              "      <td>Mild Impairment</td>\n",
              "    </tr>\n",
              "    <tr>\n",
              "      <th>2</th>\n",
              "      <td>Combined Dataset/test/Mild Impairment/1 (14).jpg</td>\n",
              "      <td>1 (14).jpg</td>\n",
              "      <td>Mild Impairment</td>\n",
              "    </tr>\n",
              "    <tr>\n",
              "      <th>3</th>\n",
              "      <td>Combined Dataset/test/Mild Impairment/1 (15).jpg</td>\n",
              "      <td>1 (15).jpg</td>\n",
              "      <td>Mild Impairment</td>\n",
              "    </tr>\n",
              "    <tr>\n",
              "      <th>4</th>\n",
              "      <td>Combined Dataset/test/Mild Impairment/1 (2).jpg</td>\n",
              "      <td>1 (2).jpg</td>\n",
              "      <td>Mild Impairment</td>\n",
              "    </tr>\n",
              "  </tbody>\n",
              "</table>\n",
              "</div>\n",
              "    <div class=\"colab-df-buttons\">\n",
              "\n",
              "  <div class=\"colab-df-container\">\n",
              "    <button class=\"colab-df-convert\" onclick=\"convertToInteractive('df-656a37e7-9b5b-483a-b3b8-9ac6021a4dfd')\"\n",
              "            title=\"Convert this dataframe to an interactive table.\"\n",
              "            style=\"display:none;\">\n",
              "\n",
              "  <svg xmlns=\"http://www.w3.org/2000/svg\" height=\"24px\" viewBox=\"0 -960 960 960\">\n",
              "    <path d=\"M120-120v-720h720v720H120Zm60-500h600v-160H180v160Zm220 220h160v-160H400v160Zm0 220h160v-160H400v160ZM180-400h160v-160H180v160Zm440 0h160v-160H620v160ZM180-180h160v-160H180v160Zm440 0h160v-160H620v160Z\"/>\n",
              "  </svg>\n",
              "    </button>\n",
              "\n",
              "  <style>\n",
              "    .colab-df-container {\n",
              "      display:flex;\n",
              "      gap: 12px;\n",
              "    }\n",
              "\n",
              "    .colab-df-convert {\n",
              "      background-color: #E8F0FE;\n",
              "      border: none;\n",
              "      border-radius: 50%;\n",
              "      cursor: pointer;\n",
              "      display: none;\n",
              "      fill: #1967D2;\n",
              "      height: 32px;\n",
              "      padding: 0 0 0 0;\n",
              "      width: 32px;\n",
              "    }\n",
              "\n",
              "    .colab-df-convert:hover {\n",
              "      background-color: #E2EBFA;\n",
              "      box-shadow: 0px 1px 2px rgba(60, 64, 67, 0.3), 0px 1px 3px 1px rgba(60, 64, 67, 0.15);\n",
              "      fill: #174EA6;\n",
              "    }\n",
              "\n",
              "    .colab-df-buttons div {\n",
              "      margin-bottom: 4px;\n",
              "    }\n",
              "\n",
              "    [theme=dark] .colab-df-convert {\n",
              "      background-color: #3B4455;\n",
              "      fill: #D2E3FC;\n",
              "    }\n",
              "\n",
              "    [theme=dark] .colab-df-convert:hover {\n",
              "      background-color: #434B5C;\n",
              "      box-shadow: 0px 1px 3px 1px rgba(0, 0, 0, 0.15);\n",
              "      filter: drop-shadow(0px 1px 2px rgba(0, 0, 0, 0.3));\n",
              "      fill: #FFFFFF;\n",
              "    }\n",
              "  </style>\n",
              "\n",
              "    <script>\n",
              "      const buttonEl =\n",
              "        document.querySelector('#df-656a37e7-9b5b-483a-b3b8-9ac6021a4dfd button.colab-df-convert');\n",
              "      buttonEl.style.display =\n",
              "        google.colab.kernel.accessAllowed ? 'block' : 'none';\n",
              "\n",
              "      async function convertToInteractive(key) {\n",
              "        const element = document.querySelector('#df-656a37e7-9b5b-483a-b3b8-9ac6021a4dfd');\n",
              "        const dataTable =\n",
              "          await google.colab.kernel.invokeFunction('convertToInteractive',\n",
              "                                                    [key], {});\n",
              "        if (!dataTable) return;\n",
              "\n",
              "        const docLinkHtml = 'Like what you see? Visit the ' +\n",
              "          '<a target=\"_blank\" href=https://colab.research.google.com/notebooks/data_table.ipynb>data table notebook</a>'\n",
              "          + ' to learn more about interactive tables.';\n",
              "        element.innerHTML = '';\n",
              "        dataTable['output_type'] = 'display_data';\n",
              "        await google.colab.output.renderOutput(dataTable, element);\n",
              "        const docLink = document.createElement('div');\n",
              "        docLink.innerHTML = docLinkHtml;\n",
              "        element.appendChild(docLink);\n",
              "      }\n",
              "    </script>\n",
              "  </div>\n",
              "\n",
              "\n",
              "    <div id=\"df-85699a6c-d9d0-4077-9a85-be5bc231491c\">\n",
              "      <button class=\"colab-df-quickchart\" onclick=\"quickchart('df-85699a6c-d9d0-4077-9a85-be5bc231491c')\"\n",
              "                title=\"Suggest charts\"\n",
              "                style=\"display:none;\">\n",
              "\n",
              "<svg xmlns=\"http://www.w3.org/2000/svg\" height=\"24px\"viewBox=\"0 0 24 24\"\n",
              "     width=\"24px\">\n",
              "    <g>\n",
              "        <path d=\"M19 3H5c-1.1 0-2 .9-2 2v14c0 1.1.9 2 2 2h14c1.1 0 2-.9 2-2V5c0-1.1-.9-2-2-2zM9 17H7v-7h2v7zm4 0h-2V7h2v10zm4 0h-2v-4h2v4z\"/>\n",
              "    </g>\n",
              "</svg>\n",
              "      </button>\n",
              "\n",
              "<style>\n",
              "  .colab-df-quickchart {\n",
              "      --bg-color: #E8F0FE;\n",
              "      --fill-color: #1967D2;\n",
              "      --hover-bg-color: #E2EBFA;\n",
              "      --hover-fill-color: #174EA6;\n",
              "      --disabled-fill-color: #AAA;\n",
              "      --disabled-bg-color: #DDD;\n",
              "  }\n",
              "\n",
              "  [theme=dark] .colab-df-quickchart {\n",
              "      --bg-color: #3B4455;\n",
              "      --fill-color: #D2E3FC;\n",
              "      --hover-bg-color: #434B5C;\n",
              "      --hover-fill-color: #FFFFFF;\n",
              "      --disabled-bg-color: #3B4455;\n",
              "      --disabled-fill-color: #666;\n",
              "  }\n",
              "\n",
              "  .colab-df-quickchart {\n",
              "    background-color: var(--bg-color);\n",
              "    border: none;\n",
              "    border-radius: 50%;\n",
              "    cursor: pointer;\n",
              "    display: none;\n",
              "    fill: var(--fill-color);\n",
              "    height: 32px;\n",
              "    padding: 0;\n",
              "    width: 32px;\n",
              "  }\n",
              "\n",
              "  .colab-df-quickchart:hover {\n",
              "    background-color: var(--hover-bg-color);\n",
              "    box-shadow: 0 1px 2px rgba(60, 64, 67, 0.3), 0 1px 3px 1px rgba(60, 64, 67, 0.15);\n",
              "    fill: var(--button-hover-fill-color);\n",
              "  }\n",
              "\n",
              "  .colab-df-quickchart-complete:disabled,\n",
              "  .colab-df-quickchart-complete:disabled:hover {\n",
              "    background-color: var(--disabled-bg-color);\n",
              "    fill: var(--disabled-fill-color);\n",
              "    box-shadow: none;\n",
              "  }\n",
              "\n",
              "  .colab-df-spinner {\n",
              "    border: 2px solid var(--fill-color);\n",
              "    border-color: transparent;\n",
              "    border-bottom-color: var(--fill-color);\n",
              "    animation:\n",
              "      spin 1s steps(1) infinite;\n",
              "  }\n",
              "\n",
              "  @keyframes spin {\n",
              "    0% {\n",
              "      border-color: transparent;\n",
              "      border-bottom-color: var(--fill-color);\n",
              "      border-left-color: var(--fill-color);\n",
              "    }\n",
              "    20% {\n",
              "      border-color: transparent;\n",
              "      border-left-color: var(--fill-color);\n",
              "      border-top-color: var(--fill-color);\n",
              "    }\n",
              "    30% {\n",
              "      border-color: transparent;\n",
              "      border-left-color: var(--fill-color);\n",
              "      border-top-color: var(--fill-color);\n",
              "      border-right-color: var(--fill-color);\n",
              "    }\n",
              "    40% {\n",
              "      border-color: transparent;\n",
              "      border-right-color: var(--fill-color);\n",
              "      border-top-color: var(--fill-color);\n",
              "    }\n",
              "    60% {\n",
              "      border-color: transparent;\n",
              "      border-right-color: var(--fill-color);\n",
              "    }\n",
              "    80% {\n",
              "      border-color: transparent;\n",
              "      border-right-color: var(--fill-color);\n",
              "      border-bottom-color: var(--fill-color);\n",
              "    }\n",
              "    90% {\n",
              "      border-color: transparent;\n",
              "      border-bottom-color: var(--fill-color);\n",
              "    }\n",
              "  }\n",
              "</style>\n",
              "\n",
              "      <script>\n",
              "        async function quickchart(key) {\n",
              "          const quickchartButtonEl =\n",
              "            document.querySelector('#' + key + ' button');\n",
              "          quickchartButtonEl.disabled = true;  // To prevent multiple clicks.\n",
              "          quickchartButtonEl.classList.add('colab-df-spinner');\n",
              "          try {\n",
              "            const charts = await google.colab.kernel.invokeFunction(\n",
              "                'suggestCharts', [key], {});\n",
              "          } catch (error) {\n",
              "            console.error('Error during call to suggestCharts:', error);\n",
              "          }\n",
              "          quickchartButtonEl.classList.remove('colab-df-spinner');\n",
              "          quickchartButtonEl.classList.add('colab-df-quickchart-complete');\n",
              "        }\n",
              "        (() => {\n",
              "          let quickchartButtonEl =\n",
              "            document.querySelector('#df-85699a6c-d9d0-4077-9a85-be5bc231491c button');\n",
              "          quickchartButtonEl.style.display =\n",
              "            google.colab.kernel.accessAllowed ? 'block' : 'none';\n",
              "        })();\n",
              "      </script>\n",
              "    </div>\n",
              "\n",
              "    </div>\n",
              "  </div>\n"
            ],
            "application/vnd.google.colaboratory.intrinsic+json": {
              "type": "dataframe",
              "summary": "{\n  \"name\": \"print(df['class']\",\n  \"rows\": 5,\n  \"fields\": [\n    {\n      \"column\": \"image_path\",\n      \"properties\": {\n        \"dtype\": \"string\",\n        \"num_unique_values\": 5,\n        \"samples\": [\n          \"Combined Dataset/test/Mild Impairment/1 (11).jpg\",\n          \"Combined Dataset/test/Mild Impairment/1 (2).jpg\",\n          \"Combined Dataset/test/Mild Impairment/1 (14).jpg\"\n        ],\n        \"semantic_type\": \"\",\n        \"description\": \"\"\n      }\n    },\n    {\n      \"column\": \"label\",\n      \"properties\": {\n        \"dtype\": \"string\",\n        \"num_unique_values\": 5,\n        \"samples\": [\n          \"1 (11).jpg\",\n          \"1 (2).jpg\",\n          \"1 (14).jpg\"\n        ],\n        \"semantic_type\": \"\",\n        \"description\": \"\"\n      }\n    },\n    {\n      \"column\": \"class\",\n      \"properties\": {\n        \"dtype\": \"category\",\n        \"num_unique_values\": 1,\n        \"samples\": [\n          \"Mild Impairment\"\n        ],\n        \"semantic_type\": \"\",\n        \"description\": \"\"\n      }\n    }\n  ]\n}"
            }
          },
          "metadata": {}
        },
        {
          "output_type": "stream",
          "name": "stdout",
          "text": [
            "\n",
            "Value counts of the new 'class' column:\n",
            "class\n",
            "No Impairment           3200\n",
            "Very Mild Impairment    3008\n",
            "Mild Impairment         2739\n",
            "Moderate Impairment     2572\n",
            "Name: count, dtype: int64\n"
          ]
        }
      ]
    },
    {
      "cell_type": "markdown",
      "metadata": {
        "id": "60db4a7e"
      },
      "source": [
        "**Reasoning**:\n",
        "Split the DataFrame into training and testing sets using the extracted 'class' column as the target variable.\n",
        "\n"
      ]
    },
    {
      "cell_type": "code",
      "metadata": {
        "colab": {
          "base_uri": "https://localhost:8080/"
        },
        "id": "b72e725c",
        "outputId": "6d8c5342-d959-4de7-d9bb-064206d9685b"
      },
      "source": [
        "y = df['class']\n",
        "X_train_df, X_test_df, y_train, y_test = train_test_split(df, y, test_size=0.2, random_state=42, stratify=y)\n",
        "\n",
        "print(\"Shape of X_train_df:\", X_train_df.shape)\n",
        "print(\"Shape of X_test_df:\", X_test_df.shape)\n",
        "print(\"Shape of y_train:\", y_train.shape)\n",
        "print(\"Shape of y_test:\", y_test.shape)"
      ],
      "execution_count": 11,
      "outputs": [
        {
          "output_type": "stream",
          "name": "stdout",
          "text": [
            "Shape of X_train_df: (9215, 3)\n",
            "Shape of X_test_df: (2304, 3)\n",
            "Shape of y_train: (9215,)\n",
            "Shape of y_test: (2304,)\n"
          ]
        }
      ]
    },
    {
      "cell_type": "markdown",
      "metadata": {
        "id": "3015c402"
      },
      "source": [
        "**Reasoning**:\n",
        "Create image data generators for the training and testing sets using the image paths and class labels.\n",
        "\n"
      ]
    },
    {
      "cell_type": "code",
      "metadata": {
        "colab": {
          "base_uri": "https://localhost:8080/"
        },
        "id": "9f8df266",
        "outputId": "2364bc77-79e4-4132-b4b6-eabd45c3a84e"
      },
      "source": [
        "from tensorflow.keras.preprocessing.image import ImageDataGenerator\n",
        "\n",
        "# Define image dimensions\n",
        "img_width, img_height = 128, 128\n",
        "batch_size = 32\n",
        "\n",
        "# Create ImageDataGenerators\n",
        "train_datagen = ImageDataGenerator(rescale=1./255)\n",
        "test_datagen = ImageDataGenerator(rescale=1./255)\n",
        "\n",
        "# Create data generators from DataFrame\n",
        "train_generator = train_datagen.flow_from_dataframe(\n",
        "    X_train_df,\n",
        "    x_col='image_path',\n",
        "    y_col='class',\n",
        "    target_size=(img_width, img_height),\n",
        "    batch_size=batch_size,\n",
        "    class_mode='categorical',\n",
        "    subset=None,\n",
        "    shuffle=True\n",
        ")\n",
        "\n",
        "test_generator = test_datagen.flow_from_dataframe(\n",
        "    X_test_df,\n",
        "    x_col='image_path',\n",
        "    y_col='class',\n",
        "    target_size=(img_width, img_height),\n",
        "    batch_size=batch_size,\n",
        "    class_mode='categorical',\n",
        "    subset=None,\n",
        "    shuffle=False\n",
        ")\n",
        "\n",
        "print(\"\\nTraining data generator created.\")\n",
        "print(\"Testing data generator created.\")"
      ],
      "execution_count": 12,
      "outputs": [
        {
          "output_type": "stream",
          "name": "stdout",
          "text": [
            "Found 0 validated image filenames belonging to 0 classes.\n",
            "Found 0 validated image filenames belonging to 0 classes.\n",
            "\n",
            "Training data generator created.\n",
            "Testing data generator created.\n"
          ]
        },
        {
          "output_type": "stream",
          "name": "stderr",
          "text": [
            "/usr/local/lib/python3.12/dist-packages/keras/src/legacy/preprocessing/image.py:920: UserWarning: Found 9215 invalid image filename(s) in x_col=\"image_path\". These filename(s) will be ignored.\n",
            "  warnings.warn(\n",
            "/usr/local/lib/python3.12/dist-packages/keras/src/legacy/preprocessing/image.py:920: UserWarning: Found 2304 invalid image filename(s) in x_col=\"image_path\". These filename(s) will be ignored.\n",
            "  warnings.warn(\n"
          ]
        }
      ]
    },
    {
      "cell_type": "code",
      "metadata": {
        "colab": {
          "base_uri": "https://localhost:8080/"
        },
        "id": "iqR8o-VfZr_E",
        "outputId": "ce090914-a38c-4723-c871-82d9226384ee"
      },
      "source": [
        "# Update the data generators to include the base directory\n",
        "base_dir = '/content/'\n",
        "\n",
        "train_generator = train_datagen.flow_from_dataframe(\n",
        "    X_train_df,\n",
        "    directory=base_dir,\n",
        "    x_col='image_path',\n",
        "    y_col='class',\n",
        "    target_size=(img_width, img_height),\n",
        "    batch_size=batch_size,\n",
        "    class_mode='categorical',\n",
        "    subset=None,\n",
        "    shuffle=True\n",
        ")\n",
        "\n",
        "test_generator = test_datagen.flow_from_dataframe(\n",
        "    X_test_df,\n",
        "    directory=base_dir,\n",
        "    x_col='image_path',\n",
        "    y_col='class',\n",
        "    target_size=(img_width, img_height),\n",
        "    batch_size=batch_size,\n",
        "    class_mode='categorical',\n",
        "    subset=None,\n",
        "    shuffle=False\n",
        ")\n",
        "\n",
        "print(\"\\nUpdated training data generator created.\")\n",
        "print(\"Updated testing data generator created.\")"
      ],
      "execution_count": 13,
      "outputs": [
        {
          "output_type": "stream",
          "name": "stdout",
          "text": [
            "Found 0 validated image filenames belonging to 0 classes.\n",
            "Found 0 validated image filenames belonging to 0 classes.\n",
            "\n",
            "Updated training data generator created.\n",
            "Updated testing data generator created.\n"
          ]
        },
        {
          "output_type": "stream",
          "name": "stderr",
          "text": [
            "/usr/local/lib/python3.12/dist-packages/keras/src/legacy/preprocessing/image.py:920: UserWarning: Found 9215 invalid image filename(s) in x_col=\"image_path\". These filename(s) will be ignored.\n",
            "  warnings.warn(\n",
            "/usr/local/lib/python3.12/dist-packages/keras/src/legacy/preprocessing/image.py:920: UserWarning: Found 2304 invalid image filename(s) in x_col=\"image_path\". These filename(s) will be ignored.\n",
            "  warnings.warn(\n"
          ]
        }
      ]
    },
    {
      "cell_type": "code",
      "metadata": {
        "colab": {
          "base_uri": "https://localhost:8080/"
        },
        "id": "xCbWhQw1Zt-u",
        "outputId": "ca6986ca-68b9-4058-e302-84d7882ca6a4"
      },
      "source": [
        "# Remove leading slash from image_path\n",
        "X_train_df['image_path'] = X_train_df['image_path'].str.lstrip('/')\n",
        "X_test_df['image_path'] = X_test_df['image_path'].str.lstrip('/')\n",
        "\n",
        "# Create ImageDataGenerators\n",
        "train_datagen = ImageDataGenerator(rescale=1./255)\n",
        "test_datagen = ImageDataGenerator(rescale=1./255)\n",
        "\n",
        "# Create data generators from DataFrame\n",
        "train_generator = train_datagen.flow_from_dataframe(\n",
        "    X_train_df,\n",
        "    directory=base_dir,\n",
        "    x_col='image_path',\n",
        "    y_col='class',\n",
        "    target_size=(img_width, img_height),\n",
        "    batch_size=batch_size,\n",
        "    class_mode='categorical',\n",
        "    subset=None,\n",
        "    shuffle=True\n",
        ")\n",
        "\n",
        "test_generator = test_datagen.flow_from_dataframe(\n",
        "    X_test_df,\n",
        "    directory=base_dir,\n",
        "    x_col='image_path',\n",
        "    y_col='class',\n",
        "    target_size=(img_width, img_height),\n",
        "    batch_size=batch_size,\n",
        "    class_mode='categorical',\n",
        "    subset=None,\n",
        "    shuffle=False\n",
        ")\n",
        "\n",
        "print(\"\\nUpdated training data generator created.\")\n",
        "print(\"Updated testing data generator created.\")"
      ],
      "execution_count": 14,
      "outputs": [
        {
          "output_type": "stream",
          "name": "stdout",
          "text": [
            "Found 0 validated image filenames belonging to 0 classes.\n",
            "Found 0 validated image filenames belonging to 0 classes.\n",
            "\n",
            "Updated training data generator created.\n",
            "Updated testing data generator created.\n"
          ]
        },
        {
          "output_type": "stream",
          "name": "stderr",
          "text": [
            "/usr/local/lib/python3.12/dist-packages/keras/src/legacy/preprocessing/image.py:920: UserWarning: Found 9215 invalid image filename(s) in x_col=\"image_path\". These filename(s) will be ignored.\n",
            "  warnings.warn(\n",
            "/usr/local/lib/python3.12/dist-packages/keras/src/legacy/preprocessing/image.py:920: UserWarning: Found 2304 invalid image filename(s) in x_col=\"image_path\". These filename(s) will be ignored.\n",
            "  warnings.warn(\n"
          ]
        }
      ]
    },
    {
      "cell_type": "code",
      "metadata": {
        "colab": {
          "base_uri": "https://localhost:8080/",
          "height": 612
        },
        "id": "38b50dd2",
        "outputId": "e8313724-1512-4f90-9f64-b1c0db3a1848"
      },
      "source": [
        "import os\n",
        "from tensorflow.keras.preprocessing.image import ImageDataGenerator\n",
        "\n",
        "print(\"First few rows of X_train_df['image_path'] after removing leading slash:\")\n",
        "print(X_train_df['image_path'].head())\n",
        "\n",
        "print(\"\\nFirst few rows of X_test_df['image_path'] after removing leading slash:\")\n",
        "print(X_test_df['image_path'].head())\n",
        "\n",
        "# Verify base_dir\n",
        "base_dir = '/content/'\n",
        "print(\"\\nBase directory set to:\", base_dir)\n",
        "\n",
        "# Recreate ImageDataGenerators\n",
        "train_datagen = ImageDataGenerator(rescale=1./255)\n",
        "test_datagen = ImageDataGenerator(rescale=1./255)\n",
        "\n",
        "# Recreate data generators from DataFrame\n",
        "train_generator = train_datagen.flow_from_dataframe(\n",
        "    X_train_df,\n",
        "    directory=base_dir,\n",
        "    x_col='image_path',\n",
        "    y_col='class',\n",
        "    target_size=(img_width, img_height),\n",
        "    batch_size=batch_size,\n",
        "    class_mode='categorical',\n",
        "    shuffle=True\n",
        ")\n",
        "\n",
        "test_generator = test_datagen.flow_from_dataframe(\n",
        "    X_test_df,\n",
        "    directory=base_dir,\n",
        "    x_col='image_path',\n",
        "    y_col='class',\n",
        "    target_size=(img_width, img_height),\n",
        "    batch_size=batch_size,\n",
        "    class_mode='categorical',\n",
        "    shuffle=False\n",
        ")\n",
        "\n",
        "print(f\"\\nFound {train_generator.samples} images belonging to {train_generator.num_classes} classes in the training set.\")\n",
        "print(f\"Found {test_generator.samples} images belonging to {test_generator.num_classes} classes in the testing set.\")"
      ],
      "execution_count": 15,
      "outputs": [
        {
          "output_type": "stream",
          "name": "stdout",
          "text": [
            "First few rows of X_train_df['image_path'] after removing leading slash:\n",
            "8426    Combined Dataset/train/No Impairment/NoImpairm...\n",
            "1523    Combined Dataset/train/Mild Impairment/MildImp...\n",
            "7583    Combined Dataset/train/No Impairment/NoImpairm...\n",
            "2402    Combined Dataset/train/Mild Impairment/MildImp...\n",
            "5895    Combined Dataset/train/Moderate Impairment/Mod...\n",
            "Name: image_path, dtype: object\n",
            "\n",
            "First few rows of X_test_df['image_path'] after removing leading slash:\n",
            "4674     Combined Dataset/train/Moderate Impairment/Mod...\n",
            "6711     Combined Dataset/train/No Impairment/NoImpairm...\n",
            "2138     Combined Dataset/train/Mild Impairment/MildImp...\n",
            "10779    Combined Dataset/train/Very Mild Impairment/Ve...\n",
            "7336     Combined Dataset/train/No Impairment/NoImpairm...\n",
            "Name: image_path, dtype: object\n",
            "\n",
            "Base directory set to: /content/\n",
            "Found 0 validated image filenames belonging to 0 classes.\n",
            "Found 0 validated image filenames belonging to 0 classes.\n"
          ]
        },
        {
          "output_type": "stream",
          "name": "stderr",
          "text": [
            "/usr/local/lib/python3.12/dist-packages/keras/src/legacy/preprocessing/image.py:920: UserWarning: Found 9215 invalid image filename(s) in x_col=\"image_path\". These filename(s) will be ignored.\n",
            "  warnings.warn(\n",
            "/usr/local/lib/python3.12/dist-packages/keras/src/legacy/preprocessing/image.py:920: UserWarning: Found 2304 invalid image filename(s) in x_col=\"image_path\". These filename(s) will be ignored.\n",
            "  warnings.warn(\n"
          ]
        },
        {
          "output_type": "error",
          "ename": "AttributeError",
          "evalue": "'DataFrameIterator' object has no attribute 'num_classes'",
          "traceback": [
            "\u001b[0;31m---------------------------------------------------------------------------\u001b[0m",
            "\u001b[0;31mAttributeError\u001b[0m                            Traceback (most recent call last)",
            "\u001b[0;32m/tmp/ipython-input-2879099471.py\u001b[0m in \u001b[0;36m<cell line: 0>\u001b[0;34m()\u001b[0m\n\u001b[1;32m     39\u001b[0m )\n\u001b[1;32m     40\u001b[0m \u001b[0;34m\u001b[0m\u001b[0m\n\u001b[0;32m---> 41\u001b[0;31m \u001b[0mprint\u001b[0m\u001b[0;34m(\u001b[0m\u001b[0;34mf\"\\nFound {train_generator.samples} images belonging to {train_generator.num_classes} classes in the training set.\"\u001b[0m\u001b[0;34m)\u001b[0m\u001b[0;34m\u001b[0m\u001b[0;34m\u001b[0m\u001b[0m\n\u001b[0m\u001b[1;32m     42\u001b[0m \u001b[0mprint\u001b[0m\u001b[0;34m(\u001b[0m\u001b[0;34mf\"Found {test_generator.samples} images belonging to {test_generator.num_classes} classes in the testing set.\"\u001b[0m\u001b[0;34m)\u001b[0m\u001b[0;34m\u001b[0m\u001b[0;34m\u001b[0m\u001b[0m\n",
            "\u001b[0;31mAttributeError\u001b[0m: 'DataFrameIterator' object has no attribute 'num_classes'"
          ]
        }
      ]
    },
    {
      "cell_type": "code",
      "metadata": {
        "colab": {
          "base_uri": "https://localhost:8080/"
        },
        "id": "YbpKn1RVZ18_",
        "outputId": "8c131774-4906-4683-d5dd-119ee65c1704"
      },
      "source": [
        "# Verify base_dir and image_paths again\n",
        "base_dir = '/content/'\n",
        "print(\"Base directory set to:\", base_dir)\n",
        "print(\"First few rows of X_train_df['image_path']:\")\n",
        "print(X_train_df['image_path'].head())\n",
        "\n",
        "# Recreate ImageDataGenerators\n",
        "train_datagen = ImageDataGenerator(rescale=1./255)\n",
        "test_datagen = ImageDataGenerator(rescale=1./255)\n",
        "\n",
        "# Recreate data generators from DataFrame\n",
        "train_generator = train_datagen.flow_from_dataframe(\n",
        "    X_train_df,\n",
        "    directory=base_dir,\n",
        "    x_col='image_path',\n",
        "    y_col='class',\n",
        "    target_size=(img_width, img_height),\n",
        "    batch_size=batch_size,\n",
        "    class_mode='categorical',\n",
        "    shuffle=True\n",
        ")\n",
        "\n",
        "test_generator = test_datagen.flow_from_dataframe(\n",
        "    X_test_df,\n",
        "    directory=base_dir,\n",
        "    x_col='image_path',\n",
        "    y_col='class',\n",
        "    target_size=(img_width, img_height),\n",
        "    batch_size=batch_size,\n",
        "    class_mode='categorical',\n",
        "    shuffle=False\n",
        ")\n",
        "\n",
        "print(f\"\\nFound {train_generator.samples} images in the training set.\")\n",
        "print(f\"Found {test_generator.samples} images in the testing set.\")\n",
        "\n",
        "if train_generator.samples > 0:\n",
        "    print(f\"Belonging to {train_generator.num_classes} classes in the training set.\")\n",
        "if test_generator.samples > 0:\n",
        "    print(f\"Belonging to {test_generator.num_classes} classes in the testing set.\")"
      ],
      "execution_count": 16,
      "outputs": [
        {
          "output_type": "stream",
          "name": "stdout",
          "text": [
            "Base directory set to: /content/\n",
            "First few rows of X_train_df['image_path']:\n",
            "8426    Combined Dataset/train/No Impairment/NoImpairm...\n",
            "1523    Combined Dataset/train/Mild Impairment/MildImp...\n",
            "7583    Combined Dataset/train/No Impairment/NoImpairm...\n",
            "2402    Combined Dataset/train/Mild Impairment/MildImp...\n",
            "5895    Combined Dataset/train/Moderate Impairment/Mod...\n",
            "Name: image_path, dtype: object\n",
            "Found 0 validated image filenames belonging to 0 classes.\n",
            "Found 0 validated image filenames belonging to 0 classes.\n",
            "\n",
            "Found 0 images in the training set.\n",
            "Found 0 images in the testing set.\n"
          ]
        },
        {
          "output_type": "stream",
          "name": "stderr",
          "text": [
            "/usr/local/lib/python3.12/dist-packages/keras/src/legacy/preprocessing/image.py:920: UserWarning: Found 9215 invalid image filename(s) in x_col=\"image_path\". These filename(s) will be ignored.\n",
            "  warnings.warn(\n",
            "/usr/local/lib/python3.12/dist-packages/keras/src/legacy/preprocessing/image.py:920: UserWarning: Found 2304 invalid image filename(s) in x_col=\"image_path\". These filename(s) will be ignored.\n",
            "  warnings.warn(\n"
          ]
        }
      ]
    },
    {
      "cell_type": "code",
      "metadata": {
        "colab": {
          "base_uri": "https://localhost:8080/"
        },
        "id": "rwIvW0jjZ4qD",
        "outputId": "383a08f0-5e35-43a1-def3-9094a463b583"
      },
      "source": [
        "# Remove 'Combined Dataset/' from the beginning of image_path\n",
        "X_train_df['image_path_relative'] = X_train_df['image_path'].str.replace('Combined Dataset/', '', regex=False)\n",
        "X_test_df['image_path_relative'] = X_test_df['image_path'].str.replace('Combined Dataset/', '', regex=False)\n",
        "\n",
        "print(\"First few rows of X_train_df['image_path_relative'] after modification:\")\n",
        "print(X_train_df['image_path_relative'].head())\n",
        "\n",
        "print(\"\\nFirst few rows of X_test_df['image_path_relative'] after modification:\")\n",
        "print(X_test_df['image_path_relative'].head())\n",
        "\n",
        "\n",
        "# Set base_dir to the 'Combined Dataset' directory\n",
        "base_dir = '/content/Combined Dataset/'\n",
        "print(\"\\nBase directory set to:\", base_dir)\n",
        "\n",
        "# Recreate ImageDataGenerators\n",
        "train_datagen = ImageDataGenerator(rescale=1./255)\n",
        "test_datagen = ImageDataGenerator(rescale=1./255)\n",
        "\n",
        "# Recreate data generators from DataFrame\n",
        "train_generator = train_datagen.flow_from_dataframe(\n",
        "    X_train_df,\n",
        "    directory=base_dir,\n",
        "    x_col='image_path_relative',\n",
        "    y_col='class',\n",
        "    target_size=(img_width, img_height),\n",
        "    batch_size=batch_size,\n",
        "    class_mode='categorical',\n",
        "    shuffle=True\n",
        ")\n",
        "\n",
        "test_generator = test_datagen.flow_from_dataframe(\n",
        "    X_test_df,\n",
        "    directory=base_dir,\n",
        "    x_col='image_path_relative',\n",
        "    y_col='class',\n",
        "    target_size=(img_width, img_height),\n",
        "    batch_size=batch_size,\n",
        "    class_mode='categorical',\n",
        "    shuffle=False\n",
        ")\n",
        "\n",
        "print(f\"\\nFound {train_generator.samples} images in the training set.\")\n",
        "print(f\"Found {test_generator.samples} images in the testing set.\")\n",
        "\n",
        "if train_generator.samples > 0:\n",
        "    print(f\"Belonging to {train_generator.num_classes} classes in the training set.\")\n",
        "if test_generator.samples > 0:\n",
        "    print(f\"Belonging to {test_generator.num_classes} classes in the testing set.\")"
      ],
      "execution_count": 17,
      "outputs": [
        {
          "output_type": "stream",
          "name": "stdout",
          "text": [
            "First few rows of X_train_df['image_path_relative'] after modification:\n",
            "8426           train/No Impairment/NoImpairment (519).jpg\n",
            "1523      train/Mild Impairment/MildImpairment (1218).jpg\n",
            "7583          train/No Impairment/NoImpairment (2064).jpg\n",
            "2402      train/Mild Impairment/MildImpairment (2009).jpg\n",
            "5895    train/Moderate Impairment/ModerateImpairment (...\n",
            "Name: image_path_relative, dtype: object\n",
            "\n",
            "First few rows of X_test_df['image_path_relative'] after modification:\n",
            "4674     train/Moderate Impairment/ModerateImpairment (...\n",
            "6711            train/No Impairment/NoImpairment (128).jpg\n",
            "2138       train/Mild Impairment/MildImpairment (1772).jpg\n",
            "10779    train/Very Mild Impairment/VeryMildImpairment ...\n",
            "7336           train/No Impairment/NoImpairment (1842).jpg\n",
            "Name: image_path_relative, dtype: object\n",
            "\n",
            "Base directory set to: /content/Combined Dataset/\n",
            "Found 0 validated image filenames belonging to 0 classes.\n",
            "Found 0 validated image filenames belonging to 0 classes.\n",
            "\n",
            "Found 0 images in the training set.\n",
            "Found 0 images in the testing set.\n"
          ]
        },
        {
          "output_type": "stream",
          "name": "stderr",
          "text": [
            "/usr/local/lib/python3.12/dist-packages/keras/src/legacy/preprocessing/image.py:920: UserWarning: Found 9215 invalid image filename(s) in x_col=\"image_path_relative\". These filename(s) will be ignored.\n",
            "  warnings.warn(\n",
            "/usr/local/lib/python3.12/dist-packages/keras/src/legacy/preprocessing/image.py:920: UserWarning: Found 2304 invalid image filename(s) in x_col=\"image_path_relative\". These filename(s) will be ignored.\n",
            "  warnings.warn(\n"
          ]
        }
      ]
    },
    {
      "cell_type": "code",
      "metadata": {
        "colab": {
          "base_uri": "https://localhost:8080/"
        },
        "id": "QuRCv_PmZ7Ml",
        "outputId": "b8879137-85d7-4109-f76f-735ac79dd15d"
      },
      "source": [
        "# Use the original image_path (with leading slash removed) and set directory=None\n",
        "# This assumes the paths in image_path are already the full paths\n",
        "# from the root that flow_from_dataframe can access.\n",
        "\n",
        "print(\"First few rows of X_train_df['image_path']:\")\n",
        "print(X_train_df['image_path'].head())\n",
        "\n",
        "print(\"\\nFirst few rows of X_test_df['image_path']:\")\n",
        "print(X_test_df['image_path'].head())\n",
        "\n",
        "\n",
        "# Recreate ImageDataGenerators\n",
        "train_datagen = ImageDataGenerator(rescale=1./255)\n",
        "test_datagen = ImageDataGenerator(rescale=1./255)\n",
        "\n",
        "# Recreate data generators from DataFrame with directory=None\n",
        "train_generator = train_datagen.flow_from_dataframe(\n",
        "    X_train_df,\n",
        "    directory=None,  # Set directory to None\n",
        "    x_col='image_path',\n",
        "    y_col='class',\n",
        "    target_size=(img_width, img_height),\n",
        "    batch_size=batch_size,\n",
        "    class_mode='categorical',\n",
        "    shuffle=True\n",
        ")\n",
        "\n",
        "test_generator = test_datagen.flow_from_dataframe(\n",
        "    X_test_df,\n",
        "    directory=None,  # Set directory to None\n",
        "    x_col='image_path',\n",
        "    y_col='class',\n",
        "    target_size=(img_width, img_height),\n",
        "    batch_size=batch_size,\n",
        "    class_mode='categorical',\n",
        "    shuffle=False\n",
        ")\n",
        "\n",
        "print(f\"\\nFound {train_generator.samples} images in the training set.\")\n",
        "print(f\"Found {test_generator.samples} images in the testing set.\")\n",
        "\n",
        "if train_generator.samples > 0:\n",
        "    print(f\"Belonging to {train_generator.num_classes} classes in the training set.\")\n",
        "if test_generator.samples > 0:\n",
        "    print(f\"Belonging to {test_generator.num_classes} classes in the testing set.\")"
      ],
      "execution_count": 18,
      "outputs": [
        {
          "output_type": "stream",
          "name": "stdout",
          "text": [
            "First few rows of X_train_df['image_path']:\n",
            "8426    Combined Dataset/train/No Impairment/NoImpairm...\n",
            "1523    Combined Dataset/train/Mild Impairment/MildImp...\n",
            "7583    Combined Dataset/train/No Impairment/NoImpairm...\n",
            "2402    Combined Dataset/train/Mild Impairment/MildImp...\n",
            "5895    Combined Dataset/train/Moderate Impairment/Mod...\n",
            "Name: image_path, dtype: object\n",
            "\n",
            "First few rows of X_test_df['image_path']:\n",
            "4674     Combined Dataset/train/Moderate Impairment/Mod...\n",
            "6711     Combined Dataset/train/No Impairment/NoImpairm...\n",
            "2138     Combined Dataset/train/Mild Impairment/MildImp...\n",
            "10779    Combined Dataset/train/Very Mild Impairment/Ve...\n",
            "7336     Combined Dataset/train/No Impairment/NoImpairm...\n",
            "Name: image_path, dtype: object\n",
            "Found 0 validated image filenames belonging to 0 classes.\n",
            "Found 0 validated image filenames belonging to 0 classes.\n",
            "\n",
            "Found 0 images in the training set.\n",
            "Found 0 images in the testing set.\n"
          ]
        },
        {
          "output_type": "stream",
          "name": "stderr",
          "text": [
            "/usr/local/lib/python3.12/dist-packages/keras/src/legacy/preprocessing/image.py:920: UserWarning: Found 9215 invalid image filename(s) in x_col=\"image_path\". These filename(s) will be ignored.\n",
            "  warnings.warn(\n",
            "/usr/local/lib/python3.12/dist-packages/keras/src/legacy/preprocessing/image.py:920: UserWarning: Found 2304 invalid image filename(s) in x_col=\"image_path\". These filename(s) will be ignored.\n",
            "  warnings.warn(\n"
          ]
        }
      ]
    },
    {
      "cell_type": "code",
      "metadata": {
        "colab": {
          "base_uri": "https://localhost:8080/"
        },
        "id": "9be33da4",
        "outputId": "06377857-7f64-49aa-8b3b-29be304fd6ba"
      },
      "source": [
        "# Adjust image_path to be relative to '/content/'\n",
        "# Check if the paths already start with '/content/' and remove it if they do.\n",
        "# This is important because if the paths are already relative to /content,\n",
        "# we don't want to remove /content/ again.\n",
        "\n",
        "def make_path_relative_to_content(image_path):\n",
        "    if image_path.startswith('/content/'):\n",
        "        return image_path.replace('/content/', '', 1)\n",
        "    return image_path\n",
        "\n",
        "X_train_df['image_path_relative'] = X_train_df['image_path'].apply(make_path_relative_to_content)\n",
        "X_test_df['image_path_relative'] = X_test_df['image_path'].apply(make_path_relative_to_content)\n",
        "\n",
        "\n",
        "print(\"First few rows of X_train_df['image_path_relative']:\")\n",
        "print(X_train_df['image_path_relative'].head())\n",
        "\n",
        "print(\"\\nFirst few rows of X_test_df['image_path_relative']:\")\n",
        "print(X_test_df['image_path_relative'].head())\n",
        "\n",
        "\n",
        "# Recreate ImageDataGenerators\n",
        "train_datagen = ImageDataGenerator(rescale=1./255)\n",
        "test_datagen = ImageDataGenerator(rescale=1./255)\n",
        "\n",
        "# Recreate data generators from DataFrame with directory='/content/' and relative paths\n",
        "train_generator = train_datagen.flow_from_dataframe(\n",
        "    X_train_df,\n",
        "    directory='/content/',  # Set directory to the base path\n",
        "    x_col='image_path_relative',  # Use the relative path column\n",
        "    y_col='class',\n",
        "    target_size=(img_width, img_height),\n",
        "    batch_size=batch_size,\n",
        "    class_mode='categorical',\n",
        "    shuffle=True\n",
        ")\n",
        "\n",
        "test_generator = test_datagen.flow_from_dataframe(\n",
        "    X_test_df,\n",
        "    directory='/content/',  # Set directory to the base path\n",
        "    x_col='image_path_relative',  # Use the relative path column\n",
        "    y_col='class',\n",
        "    target_size=(img_width, img_height),\n",
        "    batch_size=batch_size,\n",
        "    class_mode='categorical',\n",
        "    shuffle=False\n",
        ")\n",
        "\n",
        "print(f\"\\nFound {train_generator.samples} images in the training set.\")\n",
        "print(f\"Found {test_generator.samples} images in the testing set.\")\n",
        "\n",
        "if train_generator.samples > 0:\n",
        "    print(f\"Belonging to {train_generator.num_classes} classes in the training set.\")\n",
        "if test_generator.samples > 0:\n",
        "    print(f\"Belonging to {test_generator.num_classes} classes in the testing set.\")"
      ],
      "execution_count": 30,
      "outputs": [
        {
          "output_type": "stream",
          "name": "stdout",
          "text": [
            "First few rows of X_train_df['image_path_relative']:\n",
            "8426    Combined Dataset/train/No Impairment/NoImpairm...\n",
            "1523    Combined Dataset/train/Mild Impairment/MildImp...\n",
            "7583    Combined Dataset/train/No Impairment/NoImpairm...\n",
            "2402    Combined Dataset/train/Mild Impairment/MildImp...\n",
            "5895    Combined Dataset/train/Moderate Impairment/Mod...\n",
            "Name: image_path_relative, dtype: object\n",
            "\n",
            "First few rows of X_test_df['image_path_relative']:\n",
            "4674     Combined Dataset/train/Moderate Impairment/Mod...\n",
            "6711     Combined Dataset/train/No Impairment/NoImpairm...\n",
            "2138     Combined Dataset/train/Mild Impairment/MildImp...\n",
            "10779    Combined Dataset/train/Very Mild Impairment/Ve...\n",
            "7336     Combined Dataset/train/No Impairment/NoImpairm...\n",
            "Name: image_path_relative, dtype: object\n",
            "Found 0 validated image filenames belonging to 0 classes.\n",
            "Found 0 validated image filenames belonging to 0 classes.\n",
            "\n",
            "Found 0 images in the training set.\n",
            "Found 0 images in the testing set.\n"
          ]
        },
        {
          "output_type": "stream",
          "name": "stderr",
          "text": [
            "/usr/local/lib/python3.12/dist-packages/keras/src/legacy/preprocessing/image.py:920: UserWarning: Found 9215 invalid image filename(s) in x_col=\"image_path_relative\". These filename(s) will be ignored.\n",
            "  warnings.warn(\n",
            "/usr/local/lib/python3.12/dist-packages/keras/src/legacy/preprocessing/image.py:920: UserWarning: Found 2304 invalid image filename(s) in x_col=\"image_path_relative\". These filename(s) will be ignored.\n",
            "  warnings.warn(\n"
          ]
        }
      ]
    },
    {
      "cell_type": "code",
      "metadata": {
        "colab": {
          "base_uri": "https://localhost:8080/",
          "height": 341
        },
        "id": "c15a5023",
        "outputId": "2f99e6f1-84bb-4e63-f7b0-d6a666035fac"
      },
      "source": [
        "import tensorflow as tf\n",
        "from tensorflow.keras.models import Sequential\n",
        "from tensorflow.keras.layers import Flatten, Dense, Dropout\n",
        "from tensorflow.keras.applications import VGG16\n",
        "\n",
        "# Determine the number of output classes\n",
        "num_classes = len(train_generator.class_indices)\n",
        "print(f\"Number of output classes: {num_classes}\")\n",
        "\n",
        "# Load the pre-trained VGG16 model without the top classification layer\n",
        "base_model = VGG16(weights='imagenet', include_top=False, input_shape=(img_width, img_height, 3))\n",
        "\n",
        "# Freeze the layers of the base model\n",
        "for layer in base_model.layers:\n",
        "    layer.trainable = False\n",
        "\n",
        "# Create a new model on top of the pre-trained model\n",
        "model = Sequential([\n",
        "    base_model,\n",
        "    Flatten(),\n",
        "    Dense(256, activation='relu'),\n",
        "    Dropout(0.5),\n",
        "    Dense(num_classes, activation='softmax')\n",
        "])\n",
        "\n",
        "# Compile the model\n",
        "model.compile(optimizer='adam',\n",
        "              loss='categorical_crossentropy',\n",
        "              metrics=['accuracy'])\n",
        "\n",
        "# Print the model summary\n",
        "model.summary()"
      ],
      "execution_count": 20,
      "outputs": [
        {
          "output_type": "stream",
          "name": "stdout",
          "text": [
            "Number of output classes: 0\n",
            "Downloading data from https://storage.googleapis.com/tensorflow/keras-applications/vgg16/vgg16_weights_tf_dim_ordering_tf_kernels_notop.h5\n",
            "\u001b[1m58889256/58889256\u001b[0m \u001b[32m━━━━━━━━━━━━━━━━━━━━\u001b[0m\u001b[37m\u001b[0m \u001b[1m0s\u001b[0m 0us/step\n"
          ]
        },
        {
          "output_type": "display_data",
          "data": {
            "text/plain": [
              "\u001b[1mModel: \"sequential\"\u001b[0m\n"
            ],
            "text/html": [
              "<pre style=\"white-space:pre;overflow-x:auto;line-height:normal;font-family:Menlo,'DejaVu Sans Mono',consolas,'Courier New',monospace\"><span style=\"font-weight: bold\">Model: \"sequential\"</span>\n",
              "</pre>\n"
            ]
          },
          "metadata": {}
        },
        {
          "output_type": "display_data",
          "data": {
            "text/plain": [
              "┏━━━━━━━━━━━━━━━━━━━━━━━━━━━━━━━━━┳━━━━━━━━━━━━━━━━━━━━━━━━┳━━━━━━━━━━━━━━━┓\n",
              "┃\u001b[1m \u001b[0m\u001b[1mLayer (type)                   \u001b[0m\u001b[1m \u001b[0m┃\u001b[1m \u001b[0m\u001b[1mOutput Shape          \u001b[0m\u001b[1m \u001b[0m┃\u001b[1m \u001b[0m\u001b[1m      Param #\u001b[0m\u001b[1m \u001b[0m┃\n",
              "┡━━━━━━━━━━━━━━━━━━━━━━━━━━━━━━━━━╇━━━━━━━━━━━━━━━━━━━━━━━━╇━━━━━━━━━━━━━━━┩\n",
              "│ vgg16 (\u001b[38;5;33mFunctional\u001b[0m)              │ (\u001b[38;5;45mNone\u001b[0m, \u001b[38;5;34m4\u001b[0m, \u001b[38;5;34m4\u001b[0m, \u001b[38;5;34m512\u001b[0m)      │    \u001b[38;5;34m14,714,688\u001b[0m │\n",
              "├─────────────────────────────────┼────────────────────────┼───────────────┤\n",
              "│ flatten (\u001b[38;5;33mFlatten\u001b[0m)               │ (\u001b[38;5;45mNone\u001b[0m, \u001b[38;5;34m8192\u001b[0m)           │             \u001b[38;5;34m0\u001b[0m │\n",
              "├─────────────────────────────────┼────────────────────────┼───────────────┤\n",
              "│ dense (\u001b[38;5;33mDense\u001b[0m)                   │ (\u001b[38;5;45mNone\u001b[0m, \u001b[38;5;34m256\u001b[0m)            │     \u001b[38;5;34m2,097,408\u001b[0m │\n",
              "├─────────────────────────────────┼────────────────────────┼───────────────┤\n",
              "│ dropout (\u001b[38;5;33mDropout\u001b[0m)               │ (\u001b[38;5;45mNone\u001b[0m, \u001b[38;5;34m256\u001b[0m)            │             \u001b[38;5;34m0\u001b[0m │\n",
              "├─────────────────────────────────┼────────────────────────┼───────────────┤\n",
              "│ dense_1 (\u001b[38;5;33mDense\u001b[0m)                 │ (\u001b[38;5;45mNone\u001b[0m, \u001b[38;5;34m0\u001b[0m)              │             \u001b[38;5;34m0\u001b[0m │\n",
              "└─────────────────────────────────┴────────────────────────┴───────────────┘\n"
            ],
            "text/html": [
              "<pre style=\"white-space:pre;overflow-x:auto;line-height:normal;font-family:Menlo,'DejaVu Sans Mono',consolas,'Courier New',monospace\">┏━━━━━━━━━━━━━━━━━━━━━━━━━━━━━━━━━┳━━━━━━━━━━━━━━━━━━━━━━━━┳━━━━━━━━━━━━━━━┓\n",
              "┃<span style=\"font-weight: bold\"> Layer (type)                    </span>┃<span style=\"font-weight: bold\"> Output Shape           </span>┃<span style=\"font-weight: bold\">       Param # </span>┃\n",
              "┡━━━━━━━━━━━━━━━━━━━━━━━━━━━━━━━━━╇━━━━━━━━━━━━━━━━━━━━━━━━╇━━━━━━━━━━━━━━━┩\n",
              "│ vgg16 (<span style=\"color: #0087ff; text-decoration-color: #0087ff\">Functional</span>)              │ (<span style=\"color: #00d7ff; text-decoration-color: #00d7ff\">None</span>, <span style=\"color: #00af00; text-decoration-color: #00af00\">4</span>, <span style=\"color: #00af00; text-decoration-color: #00af00\">4</span>, <span style=\"color: #00af00; text-decoration-color: #00af00\">512</span>)      │    <span style=\"color: #00af00; text-decoration-color: #00af00\">14,714,688</span> │\n",
              "├─────────────────────────────────┼────────────────────────┼───────────────┤\n",
              "│ flatten (<span style=\"color: #0087ff; text-decoration-color: #0087ff\">Flatten</span>)               │ (<span style=\"color: #00d7ff; text-decoration-color: #00d7ff\">None</span>, <span style=\"color: #00af00; text-decoration-color: #00af00\">8192</span>)           │             <span style=\"color: #00af00; text-decoration-color: #00af00\">0</span> │\n",
              "├─────────────────────────────────┼────────────────────────┼───────────────┤\n",
              "│ dense (<span style=\"color: #0087ff; text-decoration-color: #0087ff\">Dense</span>)                   │ (<span style=\"color: #00d7ff; text-decoration-color: #00d7ff\">None</span>, <span style=\"color: #00af00; text-decoration-color: #00af00\">256</span>)            │     <span style=\"color: #00af00; text-decoration-color: #00af00\">2,097,408</span> │\n",
              "├─────────────────────────────────┼────────────────────────┼───────────────┤\n",
              "│ dropout (<span style=\"color: #0087ff; text-decoration-color: #0087ff\">Dropout</span>)               │ (<span style=\"color: #00d7ff; text-decoration-color: #00d7ff\">None</span>, <span style=\"color: #00af00; text-decoration-color: #00af00\">256</span>)            │             <span style=\"color: #00af00; text-decoration-color: #00af00\">0</span> │\n",
              "├─────────────────────────────────┼────────────────────────┼───────────────┤\n",
              "│ dense_1 (<span style=\"color: #0087ff; text-decoration-color: #0087ff\">Dense</span>)                 │ (<span style=\"color: #00d7ff; text-decoration-color: #00d7ff\">None</span>, <span style=\"color: #00af00; text-decoration-color: #00af00\">0</span>)              │             <span style=\"color: #00af00; text-decoration-color: #00af00\">0</span> │\n",
              "└─────────────────────────────────┴────────────────────────┴───────────────┘\n",
              "</pre>\n"
            ]
          },
          "metadata": {}
        },
        {
          "output_type": "display_data",
          "data": {
            "text/plain": [
              "\u001b[1m Total params: \u001b[0m\u001b[38;5;34m16,812,096\u001b[0m (64.13 MB)\n"
            ],
            "text/html": [
              "<pre style=\"white-space:pre;overflow-x:auto;line-height:normal;font-family:Menlo,'DejaVu Sans Mono',consolas,'Courier New',monospace\"><span style=\"font-weight: bold\"> Total params: </span><span style=\"color: #00af00; text-decoration-color: #00af00\">16,812,096</span> (64.13 MB)\n",
              "</pre>\n"
            ]
          },
          "metadata": {}
        },
        {
          "output_type": "display_data",
          "data": {
            "text/plain": [
              "\u001b[1m Trainable params: \u001b[0m\u001b[38;5;34m2,097,408\u001b[0m (8.00 MB)\n"
            ],
            "text/html": [
              "<pre style=\"white-space:pre;overflow-x:auto;line-height:normal;font-family:Menlo,'DejaVu Sans Mono',consolas,'Courier New',monospace\"><span style=\"font-weight: bold\"> Trainable params: </span><span style=\"color: #00af00; text-decoration-color: #00af00\">2,097,408</span> (8.00 MB)\n",
              "</pre>\n"
            ]
          },
          "metadata": {}
        },
        {
          "output_type": "display_data",
          "data": {
            "text/plain": [
              "\u001b[1m Non-trainable params: \u001b[0m\u001b[38;5;34m14,714,688\u001b[0m (56.13 MB)\n"
            ],
            "text/html": [
              "<pre style=\"white-space:pre;overflow-x:auto;line-height:normal;font-family:Menlo,'DejaVu Sans Mono',consolas,'Courier New',monospace\"><span style=\"font-weight: bold\"> Non-trainable params: </span><span style=\"color: #00af00; text-decoration-color: #00af00\">14,714,688</span> (56.13 MB)\n",
              "</pre>\n"
            ]
          },
          "metadata": {}
        }
      ]
    },
    {
      "cell_type": "code",
      "metadata": {
        "colab": {
          "base_uri": "https://localhost:8080/",
          "height": 306
        },
        "id": "a039088b",
        "outputId": "740c0892-1db1-4428-b52d-a52114eb33aa"
      },
      "source": [
        "import tensorflow as tf\n",
        "from tensorflow.keras.models import Sequential\n",
        "from tensorflow.keras.layers import Flatten, Dense, Dropout\n",
        "from tensorflow.keras.applications import VGG16\n",
        "\n",
        "# Determine the number of output classes directly from the dataframe\n",
        "num_classes = df['class'].nunique()\n",
        "print(f\"Number of output classes: {num_classes}\")\n",
        "\n",
        "# Load the pre-trained VGG16 model without the top classification layer\n",
        "base_model = VGG16(weights='imagenet', include_top=False, input_shape=(img_width, img_height, 3))\n",
        "\n",
        "# Freeze the layers of the base model\n",
        "for layer in base_model.layers:\n",
        "    layer.trainable = False\n",
        "\n",
        "# Create a new model on top of the pre-trained model\n",
        "model = Sequential([\n",
        "    base_model,\n",
        "    Flatten(),\n",
        "    Dense(256, activation='relu'),\n",
        "    Dropout(0.5),\n",
        "    Dense(num_classes, activation='softmax')\n",
        "])\n",
        "\n",
        "# Compile the model\n",
        "model.compile(optimizer='adam',\n",
        "              loss='categorical_crossentropy',\n",
        "              metrics=['accuracy'])\n",
        "\n",
        "# Print the model summary\n",
        "model.summary()"
      ],
      "execution_count": 21,
      "outputs": [
        {
          "output_type": "stream",
          "name": "stdout",
          "text": [
            "Number of output classes: 4\n"
          ]
        },
        {
          "output_type": "display_data",
          "data": {
            "text/plain": [
              "\u001b[1mModel: \"sequential_1\"\u001b[0m\n"
            ],
            "text/html": [
              "<pre style=\"white-space:pre;overflow-x:auto;line-height:normal;font-family:Menlo,'DejaVu Sans Mono',consolas,'Courier New',monospace\"><span style=\"font-weight: bold\">Model: \"sequential_1\"</span>\n",
              "</pre>\n"
            ]
          },
          "metadata": {}
        },
        {
          "output_type": "display_data",
          "data": {
            "text/plain": [
              "┏━━━━━━━━━━━━━━━━━━━━━━━━━━━━━━━━━┳━━━━━━━━━━━━━━━━━━━━━━━━┳━━━━━━━━━━━━━━━┓\n",
              "┃\u001b[1m \u001b[0m\u001b[1mLayer (type)                   \u001b[0m\u001b[1m \u001b[0m┃\u001b[1m \u001b[0m\u001b[1mOutput Shape          \u001b[0m\u001b[1m \u001b[0m┃\u001b[1m \u001b[0m\u001b[1m      Param #\u001b[0m\u001b[1m \u001b[0m┃\n",
              "┡━━━━━━━━━━━━━━━━━━━━━━━━━━━━━━━━━╇━━━━━━━━━━━━━━━━━━━━━━━━╇━━━━━━━━━━━━━━━┩\n",
              "│ vgg16 (\u001b[38;5;33mFunctional\u001b[0m)              │ (\u001b[38;5;45mNone\u001b[0m, \u001b[38;5;34m4\u001b[0m, \u001b[38;5;34m4\u001b[0m, \u001b[38;5;34m512\u001b[0m)      │    \u001b[38;5;34m14,714,688\u001b[0m │\n",
              "├─────────────────────────────────┼────────────────────────┼───────────────┤\n",
              "│ flatten_1 (\u001b[38;5;33mFlatten\u001b[0m)             │ (\u001b[38;5;45mNone\u001b[0m, \u001b[38;5;34m8192\u001b[0m)           │             \u001b[38;5;34m0\u001b[0m │\n",
              "├─────────────────────────────────┼────────────────────────┼───────────────┤\n",
              "│ dense_2 (\u001b[38;5;33mDense\u001b[0m)                 │ (\u001b[38;5;45mNone\u001b[0m, \u001b[38;5;34m256\u001b[0m)            │     \u001b[38;5;34m2,097,408\u001b[0m │\n",
              "├─────────────────────────────────┼────────────────────────┼───────────────┤\n",
              "│ dropout_1 (\u001b[38;5;33mDropout\u001b[0m)             │ (\u001b[38;5;45mNone\u001b[0m, \u001b[38;5;34m256\u001b[0m)            │             \u001b[38;5;34m0\u001b[0m │\n",
              "├─────────────────────────────────┼────────────────────────┼───────────────┤\n",
              "│ dense_3 (\u001b[38;5;33mDense\u001b[0m)                 │ (\u001b[38;5;45mNone\u001b[0m, \u001b[38;5;34m4\u001b[0m)              │         \u001b[38;5;34m1,028\u001b[0m │\n",
              "└─────────────────────────────────┴────────────────────────┴───────────────┘\n"
            ],
            "text/html": [
              "<pre style=\"white-space:pre;overflow-x:auto;line-height:normal;font-family:Menlo,'DejaVu Sans Mono',consolas,'Courier New',monospace\">┏━━━━━━━━━━━━━━━━━━━━━━━━━━━━━━━━━┳━━━━━━━━━━━━━━━━━━━━━━━━┳━━━━━━━━━━━━━━━┓\n",
              "┃<span style=\"font-weight: bold\"> Layer (type)                    </span>┃<span style=\"font-weight: bold\"> Output Shape           </span>┃<span style=\"font-weight: bold\">       Param # </span>┃\n",
              "┡━━━━━━━━━━━━━━━━━━━━━━━━━━━━━━━━━╇━━━━━━━━━━━━━━━━━━━━━━━━╇━━━━━━━━━━━━━━━┩\n",
              "│ vgg16 (<span style=\"color: #0087ff; text-decoration-color: #0087ff\">Functional</span>)              │ (<span style=\"color: #00d7ff; text-decoration-color: #00d7ff\">None</span>, <span style=\"color: #00af00; text-decoration-color: #00af00\">4</span>, <span style=\"color: #00af00; text-decoration-color: #00af00\">4</span>, <span style=\"color: #00af00; text-decoration-color: #00af00\">512</span>)      │    <span style=\"color: #00af00; text-decoration-color: #00af00\">14,714,688</span> │\n",
              "├─────────────────────────────────┼────────────────────────┼───────────────┤\n",
              "│ flatten_1 (<span style=\"color: #0087ff; text-decoration-color: #0087ff\">Flatten</span>)             │ (<span style=\"color: #00d7ff; text-decoration-color: #00d7ff\">None</span>, <span style=\"color: #00af00; text-decoration-color: #00af00\">8192</span>)           │             <span style=\"color: #00af00; text-decoration-color: #00af00\">0</span> │\n",
              "├─────────────────────────────────┼────────────────────────┼───────────────┤\n",
              "│ dense_2 (<span style=\"color: #0087ff; text-decoration-color: #0087ff\">Dense</span>)                 │ (<span style=\"color: #00d7ff; text-decoration-color: #00d7ff\">None</span>, <span style=\"color: #00af00; text-decoration-color: #00af00\">256</span>)            │     <span style=\"color: #00af00; text-decoration-color: #00af00\">2,097,408</span> │\n",
              "├─────────────────────────────────┼────────────────────────┼───────────────┤\n",
              "│ dropout_1 (<span style=\"color: #0087ff; text-decoration-color: #0087ff\">Dropout</span>)             │ (<span style=\"color: #00d7ff; text-decoration-color: #00d7ff\">None</span>, <span style=\"color: #00af00; text-decoration-color: #00af00\">256</span>)            │             <span style=\"color: #00af00; text-decoration-color: #00af00\">0</span> │\n",
              "├─────────────────────────────────┼────────────────────────┼───────────────┤\n",
              "│ dense_3 (<span style=\"color: #0087ff; text-decoration-color: #0087ff\">Dense</span>)                 │ (<span style=\"color: #00d7ff; text-decoration-color: #00d7ff\">None</span>, <span style=\"color: #00af00; text-decoration-color: #00af00\">4</span>)              │         <span style=\"color: #00af00; text-decoration-color: #00af00\">1,028</span> │\n",
              "└─────────────────────────────────┴────────────────────────┴───────────────┘\n",
              "</pre>\n"
            ]
          },
          "metadata": {}
        },
        {
          "output_type": "display_data",
          "data": {
            "text/plain": [
              "\u001b[1m Total params: \u001b[0m\u001b[38;5;34m16,813,124\u001b[0m (64.14 MB)\n"
            ],
            "text/html": [
              "<pre style=\"white-space:pre;overflow-x:auto;line-height:normal;font-family:Menlo,'DejaVu Sans Mono',consolas,'Courier New',monospace\"><span style=\"font-weight: bold\"> Total params: </span><span style=\"color: #00af00; text-decoration-color: #00af00\">16,813,124</span> (64.14 MB)\n",
              "</pre>\n"
            ]
          },
          "metadata": {}
        },
        {
          "output_type": "display_data",
          "data": {
            "text/plain": [
              "\u001b[1m Trainable params: \u001b[0m\u001b[38;5;34m2,098,436\u001b[0m (8.00 MB)\n"
            ],
            "text/html": [
              "<pre style=\"white-space:pre;overflow-x:auto;line-height:normal;font-family:Menlo,'DejaVu Sans Mono',consolas,'Courier New',monospace\"><span style=\"font-weight: bold\"> Trainable params: </span><span style=\"color: #00af00; text-decoration-color: #00af00\">2,098,436</span> (8.00 MB)\n",
              "</pre>\n"
            ]
          },
          "metadata": {}
        },
        {
          "output_type": "display_data",
          "data": {
            "text/plain": [
              "\u001b[1m Non-trainable params: \u001b[0m\u001b[38;5;34m14,714,688\u001b[0m (56.13 MB)\n"
            ],
            "text/html": [
              "<pre style=\"white-space:pre;overflow-x:auto;line-height:normal;font-family:Menlo,'DejaVu Sans Mono',consolas,'Courier New',monospace\"><span style=\"font-weight: bold\"> Non-trainable params: </span><span style=\"color: #00af00; text-decoration-color: #00af00\">14,714,688</span> (56.13 MB)\n",
              "</pre>\n"
            ]
          },
          "metadata": {}
        }
      ]
    },
    {
      "cell_type": "code",
      "metadata": {
        "colab": {
          "base_uri": "https://localhost:8080/"
        },
        "id": "a1074f45",
        "outputId": "a08d4001-6ce1-487d-9e07-a883c2ffbf76"
      },
      "source": [
        "import os\n",
        "from tensorflow.keras.preprocessing.image import ImageDataGenerator\n",
        "\n",
        "# Verify the structure of the image_path and the existence of files\n",
        "print(\"Checking existence of a few image paths from X_train_df:\")\n",
        "for i, path in enumerate(X_train_df['image_path'].head()):\n",
        "    full_path = os.path.join('/content/', path)\n",
        "    print(f\"Path: {full_path}, Exists: {os.path.exists(full_path)}\")\n",
        "    if i > 5: # Check only a few paths\n",
        "        break\n",
        "\n",
        "print(\"\\nChecking existence of a few image paths from X_test_df:\")\n",
        "for i, path in enumerate(X_test_df['image_path'].head()):\n",
        "    full_path = os.path.join('/content/', path)\n",
        "    print(f\"Path: {full_path}, Exists: {os.path.exists(full_path)}\")\n",
        "    if i > 5: # Check only a few paths\n",
        "        break\n",
        "\n",
        "# Recreate ImageDataGenerators\n",
        "train_datagen = ImageDataGenerator(rescale=1./255)\n",
        "test_datagen = ImageDataGenerator(rescale=1./255)\n",
        "\n",
        "# Recreate data generators from DataFrame with directory='/content/'\n",
        "# and using the original 'image_path' column which seems to contain paths\n",
        "# relative to the /content/ directory.\n",
        "train_generator = train_datagen.flow_from_dataframe(\n",
        "    X_train_df,\n",
        "    directory='/content/',  # Base directory for the image paths\n",
        "    x_col='image_path',     # Column containing the image file paths\n",
        "    y_col='class',          # Column containing the class labels\n",
        "    target_size=(img_width, img_height),\n",
        "    batch_size=batch_size,\n",
        "    class_mode='categorical',\n",
        "    shuffle=True\n",
        ")\n",
        "\n",
        "test_generator = test_datagen.flow_from_dataframe(\n",
        "    X_test_df,\n",
        "    directory='/content/',\n",
        "    x_col='image_path',\n",
        "    y_col='class',\n",
        "    target_size=(img_width, img_height),\n",
        "    batch_size=batch_size,\n",
        "    class_mode='categorical',\n",
        "    shuffle=False\n",
        ")\n",
        "\n",
        "print(f\"\\nFound {train_generator.samples} images in the training set.\")\n",
        "print(f\"Found {test_generator.samples} images in the testing set.\")\n",
        "\n",
        "if train_generator.samples > 0:\n",
        "    print(f\"Belonging to {train_generator.num_classes} classes in the training set.\")\n",
        "if test_generator.samples > 0:\n",
        "    print(f\"Belonging to {test_generator.num_classes} classes in the testing set.\")"
      ],
      "execution_count": 23,
      "outputs": [
        {
          "output_type": "stream",
          "name": "stdout",
          "text": [
            "Checking existence of a few image paths from X_train_df:\n",
            "Path: /content/Combined Dataset/train/No Impairment/NoImpairment (519).jpg, Exists: False\n",
            "Path: /content/Combined Dataset/train/Mild Impairment/MildImpairment (1218).jpg, Exists: False\n",
            "Path: /content/Combined Dataset/train/No Impairment/NoImpairment (2064).jpg, Exists: False\n",
            "Path: /content/Combined Dataset/train/Mild Impairment/MildImpairment (2009).jpg, Exists: False\n",
            "Path: /content/Combined Dataset/train/Moderate Impairment/ModerateImpairment (545).jpg, Exists: False\n",
            "\n",
            "Checking existence of a few image paths from X_test_df:\n",
            "Path: /content/Combined Dataset/train/Moderate Impairment/ModerateImpairment (1750).jpg, Exists: False\n",
            "Path: /content/Combined Dataset/train/No Impairment/NoImpairment (128).jpg, Exists: False\n",
            "Path: /content/Combined Dataset/train/Mild Impairment/MildImpairment (1772).jpg, Exists: False\n",
            "Path: /content/Combined Dataset/train/Very Mild Impairment/VeryMildImpairment (332).jpg, Exists: False\n",
            "Path: /content/Combined Dataset/train/No Impairment/NoImpairment (1842).jpg, Exists: False\n",
            "Found 0 validated image filenames belonging to 0 classes.\n",
            "Found 0 validated image filenames belonging to 0 classes.\n",
            "\n",
            "Found 0 images in the training set.\n",
            "Found 0 images in the testing set.\n"
          ]
        },
        {
          "output_type": "stream",
          "name": "stderr",
          "text": [
            "/usr/local/lib/python3.12/dist-packages/keras/src/legacy/preprocessing/image.py:920: UserWarning: Found 9215 invalid image filename(s) in x_col=\"image_path\". These filename(s) will be ignored.\n",
            "  warnings.warn(\n",
            "/usr/local/lib/python3.12/dist-packages/keras/src/legacy/preprocessing/image.py:920: UserWarning: Found 2304 invalid image filename(s) in x_col=\"image_path\". These filename(s) will be ignored.\n",
            "  warnings.warn(\n"
          ]
        }
      ]
    },
    {
      "cell_type": "code",
      "metadata": {
        "colab": {
          "base_uri": "https://localhost:8080/"
        },
        "id": "J74NZlqRaUkP",
        "outputId": "169e4642-4b6c-4d28-c753-8a935cd2def3"
      },
      "source": [
        "import os\n",
        "from tensorflow.keras.preprocessing.image import ImageDataGenerator\n",
        "\n",
        "# Create a new column with absolute paths\n",
        "X_train_df['image_path_absolute'] = X_train_df['image_path'].apply(lambda x: os.path.join('/content/', x))\n",
        "X_test_df['image_path_absolute'] = X_test_df['image_path'].apply(lambda x: os.path.join('/content/', x))\n",
        "\n",
        "\n",
        "print(\"First few rows of X_train_df['image_path_absolute']:\")\n",
        "print(X_train_df['image_path_absolute'].head())\n",
        "\n",
        "print(\"\\nFirst few rows of X_test_df['image_path_absolute']:\")\n",
        "print(X_test_df['image_path_absolute'].head())\n",
        "\n",
        "\n",
        "# Recreate ImageDataGenerators\n",
        "train_datagen = ImageDataGenerator(rescale=1./255)\n",
        "test_datagen = ImageDataGenerator(rescale=1./255)\n",
        "\n",
        "# Recreate data generators from DataFrame with directory=None and absolute paths\n",
        "train_generator = train_datagen.flow_from_dataframe(\n",
        "    X_train_df,\n",
        "    directory=None,  # Set directory to None\n",
        "    x_col='image_path_absolute', # Use the absolute path column\n",
        "    y_col='class',\n",
        "    target_size=(img_width, img_height),\n",
        "    batch_size=batch_size,\n",
        "    class_mode='categorical',\n",
        "    shuffle=True\n",
        ")\n",
        "\n",
        "test_generator = test_datagen.flow_from_dataframe(\n",
        "    X_test_df,\n",
        "    directory=None,  # Set directory to None\n",
        "    x_col='image_path_absolute', # Use the absolute path column\n",
        "    y_col='class',\n",
        "    target_size=(img_width, img_height),\n",
        "    batch_size=batch_size,\n",
        "    class_mode='categorical',\n",
        "    shuffle=False\n",
        ")\n",
        "\n",
        "print(f\"\\nFound {train_generator.samples} images in the training set.\")\n",
        "print(f\"Found {test_generator.samples} images in the testing set.\")\n",
        "\n",
        "if train_generator.samples > 0:\n",
        "    print(f\"Belonging to {train_generator.num_classes} classes in the training set.\")\n",
        "if test_generator.samples > 0:\n",
        "    print(f\"Belonging to {test_generator.num_classes} classes in the testing set.\")"
      ],
      "execution_count": 31,
      "outputs": [
        {
          "output_type": "stream",
          "name": "stdout",
          "text": [
            "First few rows of X_train_df['image_path_absolute']:\n",
            "8426    /content/Combined Dataset/train/No Impairment/...\n",
            "1523    /content/Combined Dataset/train/Mild Impairmen...\n",
            "7583    /content/Combined Dataset/train/No Impairment/...\n",
            "2402    /content/Combined Dataset/train/Mild Impairmen...\n",
            "5895    /content/Combined Dataset/train/Moderate Impai...\n",
            "Name: image_path_absolute, dtype: object\n",
            "\n",
            "First few rows of X_test_df['image_path_absolute']:\n",
            "4674     /content/Combined Dataset/train/Moderate Impai...\n",
            "6711     /content/Combined Dataset/train/No Impairment/...\n",
            "2138     /content/Combined Dataset/train/Mild Impairmen...\n",
            "10779    /content/Combined Dataset/train/Very Mild Impa...\n",
            "7336     /content/Combined Dataset/train/No Impairment/...\n",
            "Name: image_path_absolute, dtype: object\n",
            "Found 0 validated image filenames belonging to 0 classes.\n",
            "Found 0 validated image filenames belonging to 0 classes.\n",
            "\n",
            "Found 0 images in the training set.\n",
            "Found 0 images in the testing set.\n"
          ]
        },
        {
          "output_type": "stream",
          "name": "stderr",
          "text": [
            "/usr/local/lib/python3.12/dist-packages/keras/src/legacy/preprocessing/image.py:920: UserWarning: Found 9215 invalid image filename(s) in x_col=\"image_path_absolute\". These filename(s) will be ignored.\n",
            "  warnings.warn(\n",
            "/usr/local/lib/python3.12/dist-packages/keras/src/legacy/preprocessing/image.py:920: UserWarning: Found 2304 invalid image filename(s) in x_col=\"image_path_absolute\". These filename(s) will be ignored.\n",
            "  warnings.warn(\n"
          ]
        }
      ]
    },
    {
      "cell_type": "code",
      "metadata": {
        "colab": {
          "base_uri": "https://localhost:8080/"
        },
        "id": "d9c264aa",
        "outputId": "c09dabc5-7624-4bd2-9ef8-5f53fc91a32d"
      },
      "source": [
        "from tensorflow.keras.preprocessing.image import ImageDataGenerator\n",
        "\n",
        "# Recreate ImageDataGenerators\n",
        "train_datagen = ImageDataGenerator(rescale=1./255)\n",
        "test_datagen = ImageDataGenerator(rescale=1./255)\n",
        "\n",
        "# Recreate data generators from DataFrame with directory='/content/' and relative paths\n",
        "train_generator = train_datagen.flow_from_dataframe(\n",
        "    X_train_df,\n",
        "    directory='/content/',  # Set directory to the base path\n",
        "    x_col='image_path_relative',  # Use the relative path column\n",
        "    y_col='class',\n",
        "    target_size=(img_width, img_height),\n",
        "    batch_size=batch_size,\n",
        "    class_mode='categorical',\n",
        "    shuffle=True\n",
        ")\n",
        "\n",
        "test_generator = test_datagen.flow_from_dataframe(\n",
        "    X_test_df,\n",
        "    directory='/content/',  # Set directory to the base path\n",
        "    x_col='image_path_relative',  # Use the relative path column\n",
        "    y_col='class',\n",
        "    target_size=(img_width, img_height),\n",
        "    batch_size=batch_size,\n",
        "    class_mode='categorical',\n",
        "    shuffle=False\n",
        ")\n",
        "\n",
        "print(f\"\\nFound {train_generator.samples} images in the training set.\")\n",
        "print(f\"Found {test_generator.samples} images in the testing set.\")\n",
        "\n",
        "if test_generator.samples > 0:\n",
        "    print(f\"Belonging to {test_generator.num_classes} classes in the testing set.\")\n",
        "\n",
        "    # Evaluate the model\n",
        "    print(\"\\nEvaluating the model on the test set...\")\n",
        "    evaluation_results = model.evaluate(\n",
        "        test_generator,\n",
        "        steps=test_generator.samples // batch_size\n",
        "    )\n",
        "\n",
        "    # Print the evaluation results\n",
        "    print(\"\\nTest Loss:\", evaluation_results[0])\n",
        "    print(\"Test Accuracy:\", evaluation_results[1])\n",
        "else:\n",
        "    print(\"\\nNo images found in the test generator. Cannot perform evaluation.\")"
      ],
      "execution_count": 25,
      "outputs": [
        {
          "output_type": "stream",
          "name": "stdout",
          "text": [
            "Found 0 validated image filenames belonging to 0 classes.\n",
            "Found 0 validated image filenames belonging to 0 classes.\n",
            "\n",
            "Found 0 images in the training set.\n",
            "Found 0 images in the testing set.\n",
            "\n",
            "No images found in the test generator. Cannot perform evaluation.\n"
          ]
        },
        {
          "output_type": "stream",
          "name": "stderr",
          "text": [
            "/usr/local/lib/python3.12/dist-packages/keras/src/legacy/preprocessing/image.py:920: UserWarning: Found 9215 invalid image filename(s) in x_col=\"image_path_relative\". These filename(s) will be ignored.\n",
            "  warnings.warn(\n",
            "/usr/local/lib/python3.12/dist-packages/keras/src/legacy/preprocessing/image.py:920: UserWarning: Found 2304 invalid image filename(s) in x_col=\"image_path_relative\". These filename(s) will be ignored.\n",
            "  warnings.warn(\n"
          ]
        }
      ]
    }
  ]
}